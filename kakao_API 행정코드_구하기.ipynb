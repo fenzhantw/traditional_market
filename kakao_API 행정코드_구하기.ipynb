{
  "nbformat": 4,
  "nbformat_minor": 0,
  "metadata": {
    "colab": {
      "name": "편의시설 갯수세기의 사본",
      "provenance": [],
      "collapsed_sections": [],
      "include_colab_link": true
    },
    "kernelspec": {
      "display_name": "Python 3",
      "name": "python3"
    }
  },
  "cells": [
    {
      "cell_type": "markdown",
      "metadata": {
        "id": "view-in-github",
        "colab_type": "text"
      },
      "source": [
        "<a href=\"https://colab.research.google.com/github/fenzhantw/traditional_market/blob/main/kakao_API%20%ED%96%89%EC%A0%95%EC%BD%94%EB%93%9C_%EA%B5%AC%ED%95%98%EA%B8%B0.ipynb\" target=\"_parent\"><img src=\"https://colab.research.google.com/assets/colab-badge.svg\" alt=\"Open In Colab\"/></a>"
      ]
    },
    {
      "cell_type": "code",
      "metadata": {
        "id": "HCxng741QMN6"
      },
      "source": [
        "import pandas as pd\n",
        "from google.colab import drive\n",
        "drive.mount('/content/drive')\n",
        "\n",
        "df=pd.read_csv('/content/test.csv',encoding='cp949')"
      ],
      "execution_count": 2,
      "outputs": []
    },
    {
      "cell_type": "code",
      "metadata": {
        "colab": {
          "base_uri": "https://localhost:8080/",
          "height": 173
        },
        "id": "_thViFUSaM9N",
        "outputId": "7fa2dc8b-05f9-4168-f7e8-64a593b96358"
      },
      "source": [
        "df.head()"
      ],
      "execution_count": 3,
      "outputs": [
        {
          "output_type": "execute_result",
          "data": {
            "text/html": [
              "<div>\n",
              "<style scoped>\n",
              "    .dataframe tbody tr th:only-of-type {\n",
              "        vertical-align: middle;\n",
              "    }\n",
              "\n",
              "    .dataframe tbody tr th {\n",
              "        vertical-align: top;\n",
              "    }\n",
              "\n",
              "    .dataframe thead th {\n",
              "        text-align: right;\n",
              "    }\n",
              "</style>\n",
              "<table border=\"1\" class=\"dataframe\">\n",
              "  <thead>\n",
              "    <tr style=\"text-align: right;\">\n",
              "      <th></th>\n",
              "      <th>시장명</th>\n",
              "      <th>시장유형</th>\n",
              "      <th>소재지도로명주소</th>\n",
              "      <th>소재지지번주소</th>\n",
              "      <th>시장개설주기</th>\n",
              "      <th>위도</th>\n",
              "      <th>경도</th>\n",
              "    </tr>\n",
              "  </thead>\n",
              "  <tbody>\n",
              "    <tr>\n",
              "      <th>0</th>\n",
              "      <td>도구시장</td>\n",
              "      <td>5일장</td>\n",
              "      <td>NaN</td>\n",
              "      <td>경상북도 포항시 남구 동해면 도구리 668-1</td>\n",
              "      <td>2일,7일</td>\n",
              "      <td>35.987981</td>\n",
              "      <td>129.439925</td>\n",
              "    </tr>\n",
              "    <tr>\n",
              "      <th>1</th>\n",
              "      <td>장기시장</td>\n",
              "      <td>5일장</td>\n",
              "      <td>NaN</td>\n",
              "      <td>경상북도 포항시 남구 장기면 임중리 333-2</td>\n",
              "      <td>4일,9일</td>\n",
              "      <td>35.891559</td>\n",
              "      <td>129.491439</td>\n",
              "    </tr>\n",
              "    <tr>\n",
              "      <th>2</th>\n",
              "      <td>신광시장</td>\n",
              "      <td>5일장</td>\n",
              "      <td>NaN</td>\n",
              "      <td>경상북도 포항시 북구 신광면 토성리 486-5</td>\n",
              "      <td>5일,10일</td>\n",
              "      <td>36.128680</td>\n",
              "      <td>129.261912</td>\n",
              "    </tr>\n",
              "    <tr>\n",
              "      <th>3</th>\n",
              "      <td>기계시장</td>\n",
              "      <td>5일장</td>\n",
              "      <td>NaN</td>\n",
              "      <td>경상북도 포항시 북구 기계면 현내리 403</td>\n",
              "      <td>1일,6일</td>\n",
              "      <td>36.069939</td>\n",
              "      <td>129.208468</td>\n",
              "    </tr>\n",
              "  </tbody>\n",
              "</table>\n",
              "</div>"
            ],
            "text/plain": [
              "    시장명 시장유형  소재지도로명주소  ...  시장개설주기         위도          경도\n",
              "0  도구시장  5일장       NaN  ...   2일,7일  35.987981  129.439925\n",
              "1  장기시장  5일장       NaN  ...   4일,9일  35.891559  129.491439\n",
              "2  신광시장  5일장       NaN  ...  5일,10일  36.128680  129.261912\n",
              "3  기계시장  5일장       NaN  ...   1일,6일  36.069939  129.208468\n",
              "\n",
              "[4 rows x 7 columns]"
            ]
          },
          "metadata": {
            "tags": []
          },
          "execution_count": 3
        }
      ]
    },
    {
      "cell_type": "code",
      "metadata": {
        "id": "-VjNAHlUkzOa"
      },
      "source": [
        "import requests\n",
        "\n",
        "def getAddress(add):\n",
        "    url = \"https://dapi.kakao.com/v2/local/search/address.json?query=\"+add\n",
        "    apikey = \"5e5acc55c8584f36abffe26633c82550\"\n",
        "    r = requests.get( url, headers={'Authorization' : 'KakaoAK ' + apikey })\n",
        "    h_code = r.json()['documents'][0]['address']['h_code']\n",
        "    return h_code\n"
      ],
      "execution_count": 4,
      "outputs": []
    },
    {
      "cell_type": "code",
      "metadata": {
        "colab": {
          "base_uri": "https://localhost:8080/",
          "height": 35
        },
        "id": "U7iw6DY2jJu9",
        "outputId": "b8212fe5-651f-4be6-c45f-0880de0339a1"
      },
      "source": [
        "add = df.iloc[2]['소재지지번주소']\n",
        "add"
      ],
      "execution_count": 5,
      "outputs": [
        {
          "output_type": "execute_result",
          "data": {
            "application/vnd.google.colaboratory.intrinsic+json": {
              "type": "string"
            },
            "text/plain": [
              "'경상북도 포항시 북구 신광면 토성리 486-5'"
            ]
          },
          "metadata": {
            "tags": []
          },
          "execution_count": 5
        }
      ]
    },
    {
      "cell_type": "code",
      "metadata": {
        "id": "2t4rQomGU3hh"
      },
      "source": [
        "for i in range(len(df)): \n",
        "    add = df.iloc[i]['소재지지번주소']\n",
        "    code = getAddress(add)\n",
        "    df.loc[i, ['CODE']] = code"
      ],
      "execution_count": 6,
      "outputs": []
    },
    {
      "cell_type": "code",
      "metadata": {
        "colab": {
          "base_uri": "https://localhost:8080/",
          "height": 173
        },
        "id": "fuNZDA4gl-ce",
        "outputId": "dc1fbe74-0b74-4e45-fcca-513ff602b7f6"
      },
      "source": [
        "df.head()"
      ],
      "execution_count": 8,
      "outputs": [
        {
          "output_type": "execute_result",
          "data": {
            "text/html": [
              "<div>\n",
              "<style scoped>\n",
              "    .dataframe tbody tr th:only-of-type {\n",
              "        vertical-align: middle;\n",
              "    }\n",
              "\n",
              "    .dataframe tbody tr th {\n",
              "        vertical-align: top;\n",
              "    }\n",
              "\n",
              "    .dataframe thead th {\n",
              "        text-align: right;\n",
              "    }\n",
              "</style>\n",
              "<table border=\"1\" class=\"dataframe\">\n",
              "  <thead>\n",
              "    <tr style=\"text-align: right;\">\n",
              "      <th></th>\n",
              "      <th>시장명</th>\n",
              "      <th>시장유형</th>\n",
              "      <th>소재지도로명주소</th>\n",
              "      <th>소재지지번주소</th>\n",
              "      <th>시장개설주기</th>\n",
              "      <th>위도</th>\n",
              "      <th>경도</th>\n",
              "      <th>CODE</th>\n",
              "    </tr>\n",
              "  </thead>\n",
              "  <tbody>\n",
              "    <tr>\n",
              "      <th>0</th>\n",
              "      <td>도구시장</td>\n",
              "      <td>5일장</td>\n",
              "      <td>NaN</td>\n",
              "      <td>경상북도 포항시 남구 동해면 도구리 668-1</td>\n",
              "      <td>2일,7일</td>\n",
              "      <td>35.987981</td>\n",
              "      <td>129.439925</td>\n",
              "      <td>4711132000</td>\n",
              "    </tr>\n",
              "    <tr>\n",
              "      <th>1</th>\n",
              "      <td>장기시장</td>\n",
              "      <td>5일장</td>\n",
              "      <td>NaN</td>\n",
              "      <td>경상북도 포항시 남구 장기면 임중리 333-2</td>\n",
              "      <td>4일,9일</td>\n",
              "      <td>35.891559</td>\n",
              "      <td>129.491439</td>\n",
              "      <td>4711133000</td>\n",
              "    </tr>\n",
              "    <tr>\n",
              "      <th>2</th>\n",
              "      <td>신광시장</td>\n",
              "      <td>5일장</td>\n",
              "      <td>NaN</td>\n",
              "      <td>경상북도 포항시 북구 신광면 토성리 486-5</td>\n",
              "      <td>5일,10일</td>\n",
              "      <td>36.128680</td>\n",
              "      <td>129.261912</td>\n",
              "      <td>4711331000</td>\n",
              "    </tr>\n",
              "    <tr>\n",
              "      <th>3</th>\n",
              "      <td>기계시장</td>\n",
              "      <td>5일장</td>\n",
              "      <td>NaN</td>\n",
              "      <td>경상북도 포항시 북구 기계면 현내리 403</td>\n",
              "      <td>1일,6일</td>\n",
              "      <td>36.069939</td>\n",
              "      <td>129.208468</td>\n",
              "      <td>4711334000</td>\n",
              "    </tr>\n",
              "  </tbody>\n",
              "</table>\n",
              "</div>"
            ],
            "text/plain": [
              "    시장명 시장유형  소재지도로명주소  ...         위도          경도        CODE\n",
              "0  도구시장  5일장       NaN  ...  35.987981  129.439925  4711132000\n",
              "1  장기시장  5일장       NaN  ...  35.891559  129.491439  4711133000\n",
              "2  신광시장  5일장       NaN  ...  36.128680  129.261912  4711331000\n",
              "3  기계시장  5일장       NaN  ...  36.069939  129.208468  4711334000\n",
              "\n",
              "[4 rows x 8 columns]"
            ]
          },
          "metadata": {
            "tags": []
          },
          "execution_count": 8
        }
      ]
    },
    {
      "cell_type": "code",
      "metadata": {
        "id": "Cc345aWP2JeQ",
        "colab": {
          "base_uri": "https://localhost:8080/",
          "height": 72
        },
        "outputId": "927fb5b2-b440-43c0-97ae-a3efc29da4f5"
      },
      "source": [
        "from google.colab import files\n",
        "df.to_csv('result.csv') \n",
        "files.download('result.csv')"
      ],
      "execution_count": null,
      "outputs": [
        {
          "output_type": "stream",
          "text": [
            "/usr/local/lib/python3.7/dist-packages/ipykernel_launcher.py:5: VisibleDeprecationWarning: Creating an ndarray from ragged nested sequences (which is a list-or-tuple of lists-or-tuples-or ndarrays with different lengths or shapes) is deprecated. If you meant to do this, you must specify 'dtype=object' when creating the ndarray\n",
            "  \"\"\"\n"
          ],
          "name": "stderr"
        },
        {
          "output_type": "display_data",
          "data": {
            "application/javascript": [
              "\n",
              "    async function download(id, filename, size) {\n",
              "      if (!google.colab.kernel.accessAllowed) {\n",
              "        return;\n",
              "      }\n",
              "      const div = document.createElement('div');\n",
              "      const label = document.createElement('label');\n",
              "      label.textContent = `Downloading \"${filename}\": `;\n",
              "      div.appendChild(label);\n",
              "      const progress = document.createElement('progress');\n",
              "      progress.max = size;\n",
              "      div.appendChild(progress);\n",
              "      document.body.appendChild(div);\n",
              "\n",
              "      const buffers = [];\n",
              "      let downloaded = 0;\n",
              "\n",
              "      const channel = await google.colab.kernel.comms.open(id);\n",
              "      // Send a message to notify the kernel that we're ready.\n",
              "      channel.send({})\n",
              "\n",
              "      for await (const message of channel.messages) {\n",
              "        // Send a message to notify the kernel that we're ready.\n",
              "        channel.send({})\n",
              "        if (message.buffers) {\n",
              "          for (const buffer of message.buffers) {\n",
              "            buffers.push(buffer);\n",
              "            downloaded += buffer.byteLength;\n",
              "            progress.value = downloaded;\n",
              "          }\n",
              "        }\n",
              "      }\n",
              "      const blob = new Blob(buffers, {type: 'application/binary'});\n",
              "      const a = document.createElement('a');\n",
              "      a.href = window.URL.createObjectURL(blob);\n",
              "      a.download = filename;\n",
              "      div.appendChild(a);\n",
              "      a.click();\n",
              "      div.remove();\n",
              "    }\n",
              "  "
            ],
            "text/plain": [
              "<IPython.core.display.Javascript object>"
            ]
          },
          "metadata": {
            "tags": []
          }
        },
        {
          "output_type": "display_data",
          "data": {
            "application/javascript": [
              "download(\"download_9b8f5016-5222-4f87-b512-711bf88c80f3\", \"result.csv\", 1225)"
            ],
            "text/plain": [
              "<IPython.core.display.Javascript object>"
            ]
          },
          "metadata": {
            "tags": []
          }
        }
      ]
    }
  ]
}