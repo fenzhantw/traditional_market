{
  "nbformat": 4,
  "nbformat_minor": 0,
  "metadata": {
    "colab": {
      "name": "전통 시장 주위 시설  갯수세기",
      "provenance": [],
      "collapsed_sections": [],
      "include_colab_link": true
    },
    "kernelspec": {
      "display_name": "Python 3",
      "name": "python3"
    }
  },
  "cells": [
    {
      "cell_type": "markdown",
      "metadata": {
        "id": "view-in-github",
        "colab_type": "text"
      },
      "source": [
        "<a href=\"https://colab.research.google.com/github/fenzhantw/traditional_market/blob/main/%EC%A0%84%ED%86%B5_%EC%8B%9C%EC%9E%A5_%EC%A3%BC%EC%9C%84_%EC%8B%9C%EC%84%A4_%EA%B0%AF%EC%88%98%EC%84%B8%EA%B8%B0(final).ipynb\" target=\"_parent\"><img src=\"https://colab.research.google.com/assets/colab-badge.svg\" alt=\"Open In Colab\"/></a>"
      ]
    },
    {
      "cell_type": "code",
      "metadata": {
        "id": "HCxng741QMN6",
        "colab": {
          "base_uri": "https://localhost:8080/"
        },
        "outputId": "7b289141-f740-4acb-d8d2-3c35df8cb1c5"
      },
      "source": [
        "from google.colab import drive\n",
        "import pandas as pd\n",
        "drive.mount('/content/gdrive')\n"
      ],
      "execution_count": null,
      "outputs": [
        {
          "output_type": "stream",
          "text": [
            "Drive already mounted at /content/gdrive; to attempt to forcibly remount, call drive.mount(\"/content/gdrive\", force_remount=True).\n"
          ],
          "name": "stdout"
        }
      ]
    },
    {
      "cell_type": "code",
      "metadata": {
        "id": "llcal7fHs46j"
      },
      "source": [
        "data = pd.read_csv('/content/전국전통시장표준데이터.csv',encoding='cp949')"
      ],
      "execution_count": null,
      "outputs": []
    },
    {
      "cell_type": "code",
      "metadata": {
        "colab": {
          "base_uri": "https://localhost:8080/",
          "height": 1000
        },
        "id": "QUoONI3CuFRr",
        "outputId": "977c873a-1bb3-4f56-b83a-eeb19f940ad0"
      },
      "source": [
        "data.head()"
      ],
      "execution_count": null,
      "outputs": [
        {
          "output_type": "execute_result",
          "data": {
            "text/html": [
              "<div>\n",
              "<style scoped>\n",
              "    .dataframe tbody tr th:only-of-type {\n",
              "        vertical-align: middle;\n",
              "    }\n",
              "\n",
              "    .dataframe tbody tr th {\n",
              "        vertical-align: top;\n",
              "    }\n",
              "\n",
              "    .dataframe thead th {\n",
              "        text-align: right;\n",
              "    }\n",
              "</style>\n",
              "<table border=\"1\" class=\"dataframe\">\n",
              "  <thead>\n",
              "    <tr style=\"text-align: right;\">\n",
              "      <th></th>\n",
              "      <th>시장명</th>\n",
              "      <th>시장유형</th>\n",
              "      <th>소재지도로명주소</th>\n",
              "      <th>소재지지번주소</th>\n",
              "      <th>시장개설주기</th>\n",
              "      <th>위도</th>\n",
              "      <th>경도</th>\n",
              "      <th>점포수</th>\n",
              "      <th>취급품목</th>\n",
              "      <th>사용가능상품권</th>\n",
              "      <th>홈페이지주소</th>\n",
              "      <th>공중화장실보유여부</th>\n",
              "      <th>주차장보유여부</th>\n",
              "      <th>개설연도</th>\n",
              "      <th>전화번호</th>\n",
              "      <th>데이터기준일자</th>\n",
              "      <th>제공기관코드</th>\n",
              "      <th>제공기관명</th>\n",
              "    </tr>\n",
              "  </thead>\n",
              "  <tbody>\n",
              "    <tr>\n",
              "      <th>0</th>\n",
              "      <td>도구시장</td>\n",
              "      <td>5일장</td>\n",
              "      <td>NaN</td>\n",
              "      <td>경상북도 포항시 남구 동해면 도구리 668-1</td>\n",
              "      <td>2일,7일</td>\n",
              "      <td>35.987981</td>\n",
              "      <td>129.439925</td>\n",
              "      <td>10.0</td>\n",
              "      <td>농산물 생필품, 수산물, 잡화 등</td>\n",
              "      <td>포항사랑상품권, 온누리상품권</td>\n",
              "      <td>NaN</td>\n",
              "      <td>Y</td>\n",
              "      <td>Y</td>\n",
              "      <td>1915</td>\n",
              "      <td>NaN</td>\n",
              "      <td>2020-02-25</td>\n",
              "      <td>6470000</td>\n",
              "      <td>경상북도</td>\n",
              "    </tr>\n",
              "    <tr>\n",
              "      <th>1</th>\n",
              "      <td>장기시장</td>\n",
              "      <td>5일장</td>\n",
              "      <td>NaN</td>\n",
              "      <td>경상북도 포항시 남구 장기면 임중리 333-2</td>\n",
              "      <td>4일,9일</td>\n",
              "      <td>35.891559</td>\n",
              "      <td>129.491439</td>\n",
              "      <td>13.0</td>\n",
              "      <td>농산물 생필품, 수산물, 잡화 등</td>\n",
              "      <td>포항사랑상품권, 온누리상품권</td>\n",
              "      <td>NaN</td>\n",
              "      <td>Y</td>\n",
              "      <td>N</td>\n",
              "      <td>1914</td>\n",
              "      <td>NaN</td>\n",
              "      <td>2020-02-25</td>\n",
              "      <td>6470000</td>\n",
              "      <td>경상북도</td>\n",
              "    </tr>\n",
              "    <tr>\n",
              "      <th>2</th>\n",
              "      <td>신광시장</td>\n",
              "      <td>5일장</td>\n",
              "      <td>NaN</td>\n",
              "      <td>경상북도 포항시 북구 신광면 토성리 486-5</td>\n",
              "      <td>5일,10일</td>\n",
              "      <td>36.128680</td>\n",
              "      <td>129.261912</td>\n",
              "      <td>22.0</td>\n",
              "      <td>농산물 생필품, 수산물, 잡화 등</td>\n",
              "      <td>포항사랑상품권, 온누리상품권</td>\n",
              "      <td>NaN</td>\n",
              "      <td>Y</td>\n",
              "      <td>N</td>\n",
              "      <td>1965</td>\n",
              "      <td>NaN</td>\n",
              "      <td>2020-02-25</td>\n",
              "      <td>6470000</td>\n",
              "      <td>경상북도</td>\n",
              "    </tr>\n",
              "    <tr>\n",
              "      <th>3</th>\n",
              "      <td>기계시장</td>\n",
              "      <td>5일장</td>\n",
              "      <td>NaN</td>\n",
              "      <td>경상북도 포항시 북구 기계면 현내리 403</td>\n",
              "      <td>1일,6일</td>\n",
              "      <td>36.069939</td>\n",
              "      <td>129.208468</td>\n",
              "      <td>18.0</td>\n",
              "      <td>농산물 생필품, 수산물, 잡화 등</td>\n",
              "      <td>포항사랑상품권, 온누리상품권</td>\n",
              "      <td>NaN</td>\n",
              "      <td>Y</td>\n",
              "      <td>N</td>\n",
              "      <td>1923</td>\n",
              "      <td>NaN</td>\n",
              "      <td>2020-02-25</td>\n",
              "      <td>6470000</td>\n",
              "      <td>경상북도</td>\n",
              "    </tr>\n",
              "    <tr>\n",
              "      <th>4</th>\n",
              "      <td>죽장시장</td>\n",
              "      <td>5일장</td>\n",
              "      <td>NaN</td>\n",
              "      <td>경상북도 포항시 북구 죽장면 입암리 858-34</td>\n",
              "      <td>3일,8일</td>\n",
              "      <td>36.161583</td>\n",
              "      <td>129.095434</td>\n",
              "      <td>18.0</td>\n",
              "      <td>농산물 생필품, 수산물, 잡화 등</td>\n",
              "      <td>포항사랑상품권, 온누리상품권</td>\n",
              "      <td>NaN</td>\n",
              "      <td>Y</td>\n",
              "      <td>N</td>\n",
              "      <td>1919</td>\n",
              "      <td>NaN</td>\n",
              "      <td>2020-02-25</td>\n",
              "      <td>6470000</td>\n",
              "      <td>경상북도</td>\n",
              "    </tr>\n",
              "  </tbody>\n",
              "</table>\n",
              "</div>"
            ],
            "text/plain": [
              "    시장명 시장유형 소재지도로명주소  ...     데이터기준일자   제공기관코드  제공기관명\n",
              "0  도구시장  5일장      NaN  ...  2020-02-25  6470000   경상북도\n",
              "1  장기시장  5일장      NaN  ...  2020-02-25  6470000   경상북도\n",
              "2  신광시장  5일장      NaN  ...  2020-02-25  6470000   경상북도\n",
              "3  기계시장  5일장      NaN  ...  2020-02-25  6470000   경상북도\n",
              "4  죽장시장  5일장      NaN  ...  2020-02-25  6470000   경상북도\n",
              "\n",
              "[5 rows x 18 columns]"
            ]
          },
          "metadata": {
            "tags": []
          },
          "execution_count": 33
        }
      ]
    },
    {
      "cell_type": "code",
      "metadata": {
        "id": "wEjpR_6ouHo0"
      },
      "source": [
        "data_copy = data[:]"
      ],
      "execution_count": null,
      "outputs": []
    },
    {
      "cell_type": "code",
      "metadata": {
        "id": "dQHKB4aNuOAe"
      },
      "source": [
        "data_copy = data_copy.drop(['시장유형','소재지도로명주소','소재지지번주소','시장개설주기','점포수','취급품목','사용가능상품권','홈페이지주소','공중화장실보유여부','주차장보유여부','개설연도','전화번호','데이터기준일자','제공기관코드','제공기관명'],axis=1)"
      ],
      "execution_count": null,
      "outputs": []
    },
    {
      "cell_type": "code",
      "metadata": {
        "colab": {
          "base_uri": "https://localhost:8080/",
          "height": 204
        },
        "id": "yCMWQ8zau3BP",
        "outputId": "be652437-4b56-44a2-8f11-77a5d06f74d7"
      },
      "source": [
        "data_copy.head()"
      ],
      "execution_count": null,
      "outputs": [
        {
          "output_type": "execute_result",
          "data": {
            "text/html": [
              "<div>\n",
              "<style scoped>\n",
              "    .dataframe tbody tr th:only-of-type {\n",
              "        vertical-align: middle;\n",
              "    }\n",
              "\n",
              "    .dataframe tbody tr th {\n",
              "        vertical-align: top;\n",
              "    }\n",
              "\n",
              "    .dataframe thead th {\n",
              "        text-align: right;\n",
              "    }\n",
              "</style>\n",
              "<table border=\"1\" class=\"dataframe\">\n",
              "  <thead>\n",
              "    <tr style=\"text-align: right;\">\n",
              "      <th></th>\n",
              "      <th>시장명</th>\n",
              "      <th>위도</th>\n",
              "      <th>경도</th>\n",
              "    </tr>\n",
              "  </thead>\n",
              "  <tbody>\n",
              "    <tr>\n",
              "      <th>0</th>\n",
              "      <td>도구시장</td>\n",
              "      <td>35.987981</td>\n",
              "      <td>129.439925</td>\n",
              "    </tr>\n",
              "    <tr>\n",
              "      <th>1</th>\n",
              "      <td>장기시장</td>\n",
              "      <td>35.891559</td>\n",
              "      <td>129.491439</td>\n",
              "    </tr>\n",
              "    <tr>\n",
              "      <th>2</th>\n",
              "      <td>신광시장</td>\n",
              "      <td>36.128680</td>\n",
              "      <td>129.261912</td>\n",
              "    </tr>\n",
              "    <tr>\n",
              "      <th>3</th>\n",
              "      <td>기계시장</td>\n",
              "      <td>36.069939</td>\n",
              "      <td>129.208468</td>\n",
              "    </tr>\n",
              "    <tr>\n",
              "      <th>4</th>\n",
              "      <td>죽장시장</td>\n",
              "      <td>36.161583</td>\n",
              "      <td>129.095434</td>\n",
              "    </tr>\n",
              "  </tbody>\n",
              "</table>\n",
              "</div>"
            ],
            "text/plain": [
              "    시장명         위도          경도\n",
              "0  도구시장  35.987981  129.439925\n",
              "1  장기시장  35.891559  129.491439\n",
              "2  신광시장  36.128680  129.261912\n",
              "3  기계시장  36.069939  129.208468\n",
              "4  죽장시장  36.161583  129.095434"
            ]
          },
          "metadata": {
            "tags": []
          },
          "execution_count": 36
        }
      ]
    },
    {
      "cell_type": "code",
      "metadata": {
        "colab": {
          "base_uri": "https://localhost:8080/"
        },
        "id": "HN4in8YO8dM1",
        "outputId": "37eedd77-79a4-4daf-db62-df352ba2b030"
      },
      "source": [
        "data_copy.info()"
      ],
      "execution_count": null,
      "outputs": [
        {
          "output_type": "stream",
          "text": [
            "<class 'pandas.core.frame.DataFrame'>\n",
            "RangeIndex: 2884 entries, 0 to 2883\n",
            "Data columns (total 3 columns):\n",
            " #   Column  Non-Null Count  Dtype  \n",
            "---  ------  --------------  -----  \n",
            " 0   시장명     2884 non-null   object \n",
            " 1   위도      2777 non-null   float64\n",
            " 2   경도      2777 non-null   float64\n",
            "dtypes: float64(2), object(1)\n",
            "memory usage: 67.7+ KB\n"
          ],
          "name": "stdout"
        }
      ]
    },
    {
      "cell_type": "code",
      "metadata": {
        "id": "gED9fxhrvOlm"
      },
      "source": [
        "data_copy=data_copy.dropna()"
      ],
      "execution_count": null,
      "outputs": []
    },
    {
      "cell_type": "code",
      "metadata": {
        "colab": {
          "base_uri": "https://localhost:8080/"
        },
        "id": "zIjNM2vMvaCn",
        "outputId": "54f9b45a-ddd4-4715-ff9e-f596d1e09e15"
      },
      "source": [
        "data_copy.info()"
      ],
      "execution_count": null,
      "outputs": [
        {
          "output_type": "stream",
          "text": [
            "<class 'pandas.core.frame.DataFrame'>\n",
            "Int64Index: 2777 entries, 0 to 2883\n",
            "Data columns (total 3 columns):\n",
            " #   Column  Non-Null Count  Dtype  \n",
            "---  ------  --------------  -----  \n",
            " 0   시장명     2777 non-null   object \n",
            " 1   위도      2777 non-null   float64\n",
            " 2   경도      2777 non-null   float64\n",
            "dtypes: float64(2), object(1)\n",
            "memory usage: 86.8+ KB\n"
          ],
          "name": "stdout"
        }
      ]
    },
    {
      "cell_type": "code",
      "metadata": {
        "id": "3eHvL5RBL602"
      },
      "source": [
        "import requests\n",
        "\n",
        "def getCount(id, lat, lng, category):\n",
        "    url = \"https://dapi.kakao.com/v2/local/search/category.json?x=\" + lng + \"&y=\" + lat + \"&radius=1000&category_group_code=\"+category #radius는 미터단위\n",
        "    apikey = \"5e5acc55c8584f36abffe26633c82550\"\n",
        "    r = requests.get( url, headers={'Authorization' : 'KakaoAK ' + apikey })\n",
        "    return r.json()[\"meta\"][\"total_count\"]\n"
      ],
      "execution_count": null,
      "outputs": []
    },
    {
      "cell_type": "code",
      "metadata": {
        "id": "2t4rQomGU3hh"
      },
      "source": [
        "result = [['시장명', '대형마트', '주차장', '지하철역', '학교', '편의점', '주유소,충전소', '문화시설', '관광명소', '음식점', '카페']]\n",
        "category_code = ['MT1','PK6', 'SW8', 'SC4', 'CS2', 'OL7', 'CT1', 'AT4', 'FD6', 'CE7']\n",
        "# MT1\t대형마트\n",
        "# PK6 주차장\n",
        "# SW8 지하철역\n",
        "# SC4 학교\n",
        "# CS2\t편의점\n",
        "# OL7\t주유소, 충전소\n",
        "# CT1\t문화시설\n",
        "# AT4\t관광명소\n",
        "# FD6\t음식점\n",
        "# CE7\t카페\n",
        "for v in data_copy.iterrows():\n",
        "    id = str(v[1]['시장명'])\n",
        "    lat = str(v[1]['위도'])\n",
        "    lng = str(v[1]['경도'])\n",
        "    item_result = [id]\n",
        "    for cate in category_code:\n",
        "        item_result.append(getCount(id, lat, lng, cate))\n",
        "    result.append(item_result)"
      ],
      "execution_count": null,
      "outputs": []
    },
    {
      "cell_type": "code",
      "metadata": {
        "id": "IkawItybelxs",
        "colab": {
          "base_uri": "https://localhost:8080/"
        },
        "outputId": "f0b02120-52d9-4d37-ac2d-5be2c52a57ea"
      },
      "source": [
        "print(result[0])"
      ],
      "execution_count": null,
      "outputs": [
        {
          "output_type": "stream",
          "text": [
            "['시장명', '대형마트', '주차장', '지하철역', '학교', '편의점', '주유소,충전소', '문화시설', '관광명소', '음식점', '카페']\n"
          ],
          "name": "stdout"
        }
      ]
    },
    {
      "cell_type": "code",
      "metadata": {
        "id": "Cc345aWP2JeQ",
        "colab": {
          "base_uri": "https://localhost:8080/",
          "height": 17
        },
        "outputId": "1c49cdf7-1d1b-43c8-d598-cce81cc6f49c"
      },
      "source": [
        "import numpy as np\n",
        " \n",
        "#numpy array 생성\n",
        " \n",
        "arr = np.array(result)\n",
        "\n",
        "df = pd.DataFrame(arr)\n",
        "\n",
        "from google.colab import files\n",
        "df.to_csv('result.csv') \n",
        "files.download('result.csv')"
      ],
      "execution_count": null,
      "outputs": [
        {
          "output_type": "display_data",
          "data": {
            "application/javascript": [
              "\n",
              "    async function download(id, filename, size) {\n",
              "      if (!google.colab.kernel.accessAllowed) {\n",
              "        return;\n",
              "      }\n",
              "      const div = document.createElement('div');\n",
              "      const label = document.createElement('label');\n",
              "      label.textContent = `Downloading \"${filename}\": `;\n",
              "      div.appendChild(label);\n",
              "      const progress = document.createElement('progress');\n",
              "      progress.max = size;\n",
              "      div.appendChild(progress);\n",
              "      document.body.appendChild(div);\n",
              "\n",
              "      const buffers = [];\n",
              "      let downloaded = 0;\n",
              "\n",
              "      const channel = await google.colab.kernel.comms.open(id);\n",
              "      // Send a message to notify the kernel that we're ready.\n",
              "      channel.send({})\n",
              "\n",
              "      for await (const message of channel.messages) {\n",
              "        // Send a message to notify the kernel that we're ready.\n",
              "        channel.send({})\n",
              "        if (message.buffers) {\n",
              "          for (const buffer of message.buffers) {\n",
              "            buffers.push(buffer);\n",
              "            downloaded += buffer.byteLength;\n",
              "            progress.value = downloaded;\n",
              "          }\n",
              "        }\n",
              "      }\n",
              "      const blob = new Blob(buffers, {type: 'application/binary'});\n",
              "      const a = document.createElement('a');\n",
              "      a.href = window.URL.createObjectURL(blob);\n",
              "      a.download = filename;\n",
              "      div.appendChild(a);\n",
              "      a.click();\n",
              "      div.remove();\n",
              "    }\n",
              "  "
            ],
            "text/plain": [
              "<IPython.core.display.Javascript object>"
            ]
          },
          "metadata": {
            "tags": []
          }
        },
        {
          "output_type": "display_data",
          "data": {
            "application/javascript": [
              "download(\"download_7340ead4-2fcc-4206-b1bf-857879508482\", \"result.csv\", 132643)"
            ],
            "text/plain": [
              "<IPython.core.display.Javascript object>"
            ]
          },
          "metadata": {
            "tags": []
          }
        }
      ]
    }
  ]
}