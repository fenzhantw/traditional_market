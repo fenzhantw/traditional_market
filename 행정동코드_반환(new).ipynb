{
  "nbformat": 4,
  "nbformat_minor": 0,
  "metadata": {
    "colab": {
      "name": "행정동코드 반환",
      "provenance": [],
      "collapsed_sections": [],
      "include_colab_link": true
    },
    "kernelspec": {
      "display_name": "Python 3",
      "name": "python3"
    }
  },
  "cells": [
    {
      "cell_type": "markdown",
      "metadata": {
        "id": "view-in-github",
        "colab_type": "text"
      },
      "source": [
        "<a href=\"https://colab.research.google.com/github/fenzhantw/traditional_market/blob/main/%ED%96%89%EC%A0%95%EB%8F%99%EC%BD%94%EB%93%9C_%EB%B0%98%ED%99%98(new).ipynb\" target=\"_parent\"><img src=\"https://colab.research.google.com/assets/colab-badge.svg\" alt=\"Open In Colab\"/></a>"
      ]
    },
    {
      "cell_type": "code",
      "metadata": {
        "id": "HCxng741QMN6",
        "colab": {
          "base_uri": "https://localhost:8080/"
        },
        "outputId": "e670db77-a6c2-4f70-d22e-dc01a40bbd48"
      },
      "source": [
        "import pandas as pd\n",
        "from google.colab import drive\n",
        "drive.mount('/content/drive')\n",
        "\n",
        "df=pd.read_csv('/content/전국전통시장표준데이터.csv',encoding='cp949')"
      ],
      "execution_count": 3,
      "outputs": [
        {
          "output_type": "stream",
          "text": [
            "Mounted at /content/drive\n"
          ],
          "name": "stdout"
        }
      ]
    },
    {
      "cell_type": "code",
      "metadata": {
        "id": "_thViFUSaM9N"
      },
      "source": [
        "df.head()"
      ],
      "execution_count": null,
      "outputs": []
    },
    {
      "cell_type": "code",
      "metadata": {
        "colab": {
          "base_uri": "https://localhost:8080/",
          "height": 306
        },
        "id": "1gzpZJ9Dw3kI",
        "outputId": "7992a5a6-7806-4e9d-92ce-626b69923daa"
      },
      "source": [
        "data.head()"
      ],
      "execution_count": 33,
      "outputs": [
        {
          "output_type": "execute_result",
          "data": {
            "text/html": [
              "<div>\n",
              "<style scoped>\n",
              "    .dataframe tbody tr th:only-of-type {\n",
              "        vertical-align: middle;\n",
              "    }\n",
              "\n",
              "    .dataframe tbody tr th {\n",
              "        vertical-align: top;\n",
              "    }\n",
              "\n",
              "    .dataframe thead th {\n",
              "        text-align: right;\n",
              "    }\n",
              "</style>\n",
              "<table border=\"1\" class=\"dataframe\">\n",
              "  <thead>\n",
              "    <tr style=\"text-align: right;\">\n",
              "      <th></th>\n",
              "      <th>시장명</th>\n",
              "      <th>시장유형</th>\n",
              "      <th>소재지도로명주소</th>\n",
              "      <th>소재지지번주소</th>\n",
              "      <th>시장개설주기</th>\n",
              "      <th>위도</th>\n",
              "      <th>경도</th>\n",
              "      <th>점포수</th>\n",
              "      <th>취급품목</th>\n",
              "      <th>사용가능상품권</th>\n",
              "      <th>홈페이지주소</th>\n",
              "      <th>공중화장실보유여부</th>\n",
              "      <th>주차장보유여부</th>\n",
              "      <th>개설연도</th>\n",
              "      <th>전화번호</th>\n",
              "      <th>데이터기준일자</th>\n",
              "      <th>제공기관코드</th>\n",
              "      <th>제공기관명</th>\n",
              "    </tr>\n",
              "  </thead>\n",
              "  <tbody>\n",
              "    <tr>\n",
              "      <th>0</th>\n",
              "      <td>도구시장</td>\n",
              "      <td>5일장</td>\n",
              "      <td>NaN</td>\n",
              "      <td>경상북도 포항시 남구 동해면 도구리 668-1</td>\n",
              "      <td>2일,7일</td>\n",
              "      <td>35.987981</td>\n",
              "      <td>129.439925</td>\n",
              "      <td>10.0</td>\n",
              "      <td>농산물 생필품, 수산물, 잡화 등</td>\n",
              "      <td>포항사랑상품권, 온누리상품권</td>\n",
              "      <td>NaN</td>\n",
              "      <td>Y</td>\n",
              "      <td>Y</td>\n",
              "      <td>1915</td>\n",
              "      <td>NaN</td>\n",
              "      <td>2020.2.25</td>\n",
              "      <td>6470000</td>\n",
              "      <td>경상북도</td>\n",
              "    </tr>\n",
              "    <tr>\n",
              "      <th>1</th>\n",
              "      <td>장기시장</td>\n",
              "      <td>5일장</td>\n",
              "      <td>NaN</td>\n",
              "      <td>경상북도 포항시 남구 장기면 임중리 333-2</td>\n",
              "      <td>4일,9일</td>\n",
              "      <td>35.891559</td>\n",
              "      <td>129.491439</td>\n",
              "      <td>13.0</td>\n",
              "      <td>농산물 생필품, 수산물, 잡화 등</td>\n",
              "      <td>포항사랑상품권, 온누리상품권</td>\n",
              "      <td>NaN</td>\n",
              "      <td>Y</td>\n",
              "      <td>N</td>\n",
              "      <td>1914</td>\n",
              "      <td>NaN</td>\n",
              "      <td>2020.2.25</td>\n",
              "      <td>6470000</td>\n",
              "      <td>경상북도</td>\n",
              "    </tr>\n",
              "    <tr>\n",
              "      <th>2</th>\n",
              "      <td>신광시장</td>\n",
              "      <td>5일장</td>\n",
              "      <td>NaN</td>\n",
              "      <td>경상북도 포항시 북구 신광면 토성리 486-5</td>\n",
              "      <td>5일,10일</td>\n",
              "      <td>36.128680</td>\n",
              "      <td>129.261912</td>\n",
              "      <td>22.0</td>\n",
              "      <td>농산물 생필품, 수산물, 잡화 등</td>\n",
              "      <td>포항사랑상품권, 온누리상품권</td>\n",
              "      <td>NaN</td>\n",
              "      <td>Y</td>\n",
              "      <td>N</td>\n",
              "      <td>1965</td>\n",
              "      <td>NaN</td>\n",
              "      <td>2020.2.25</td>\n",
              "      <td>6470000</td>\n",
              "      <td>경상북도</td>\n",
              "    </tr>\n",
              "    <tr>\n",
              "      <th>3</th>\n",
              "      <td>기계시장</td>\n",
              "      <td>5일장</td>\n",
              "      <td>NaN</td>\n",
              "      <td>경상북도 포항시 북구 기계면 현내리 403</td>\n",
              "      <td>1일,6일</td>\n",
              "      <td>36.069939</td>\n",
              "      <td>129.208468</td>\n",
              "      <td>18.0</td>\n",
              "      <td>농산물 생필품, 수산물, 잡화 등</td>\n",
              "      <td>포항사랑상품권, 온누리상품권</td>\n",
              "      <td>NaN</td>\n",
              "      <td>Y</td>\n",
              "      <td>N</td>\n",
              "      <td>1923</td>\n",
              "      <td>NaN</td>\n",
              "      <td>2020.2.25</td>\n",
              "      <td>6470000</td>\n",
              "      <td>경상북도</td>\n",
              "    </tr>\n",
              "    <tr>\n",
              "      <th>4</th>\n",
              "      <td>죽장시장</td>\n",
              "      <td>5일장</td>\n",
              "      <td>NaN</td>\n",
              "      <td>경상북도 포항시 북구 죽장면 입암리 858-34</td>\n",
              "      <td>3일,8일</td>\n",
              "      <td>36.161583</td>\n",
              "      <td>129.095434</td>\n",
              "      <td>18.0</td>\n",
              "      <td>농산물 생필품, 수산물, 잡화 등</td>\n",
              "      <td>포항사랑상품권, 온누리상품권</td>\n",
              "      <td>NaN</td>\n",
              "      <td>Y</td>\n",
              "      <td>N</td>\n",
              "      <td>1919</td>\n",
              "      <td>NaN</td>\n",
              "      <td>2020.2.25</td>\n",
              "      <td>6470000</td>\n",
              "      <td>경상북도</td>\n",
              "    </tr>\n",
              "  </tbody>\n",
              "</table>\n",
              "</div>"
            ],
            "text/plain": [
              "    시장명 시장유형 소재지도로명주소  ...    데이터기준일자   제공기관코드  제공기관명\n",
              "0  도구시장  5일장      NaN  ...  2020.2.25  6470000   경상북도\n",
              "1  장기시장  5일장      NaN  ...  2020.2.25  6470000   경상북도\n",
              "2  신광시장  5일장      NaN  ...  2020.2.25  6470000   경상북도\n",
              "3  기계시장  5일장      NaN  ...  2020.2.25  6470000   경상북도\n",
              "4  죽장시장  5일장      NaN  ...  2020.2.25  6470000   경상북도\n",
              "\n",
              "[5 rows x 18 columns]"
            ]
          },
          "metadata": {
            "tags": []
          },
          "execution_count": 33
        }
      ]
    },
    {
      "cell_type": "code",
      "metadata": {
        "id": "-OYybel6nI3S"
      },
      "source": [
        "data_copy = df.drop(['시장유형','소재지도로명주소','소재지지번주소','시장개설주기','점포수','취급품목','사용가능상품권','홈페이지주소','공중화장실보유여부','주차장보유여부','개설연도','전화번호','데이터기준일자','제공기관코드','제공기관명'],axis=1)"
      ],
      "execution_count": 6,
      "outputs": []
    },
    {
      "cell_type": "code",
      "metadata": {
        "id": "gFmNfjysqtjj"
      },
      "source": [
        "data_copy.head()"
      ],
      "execution_count": null,
      "outputs": []
    },
    {
      "cell_type": "code",
      "metadata": {
        "id": "-bvZ-B0yqwSj"
      },
      "source": [
        "data_copy=data_copy.dropna()"
      ],
      "execution_count": 8,
      "outputs": []
    },
    {
      "cell_type": "code",
      "metadata": {
        "id": "2oRchOJxqxeH"
      },
      "source": [
        "data_copy.info()"
      ],
      "execution_count": null,
      "outputs": []
    },
    {
      "cell_type": "code",
      "metadata": {
        "id": "cFY2C75Lq0qM"
      },
      "source": [
        "import requests\n",
        "\n",
        "def getAddress(lat, lng):\n",
        "    url = \"https://dapi.kakao.com/v2/local/geo/coord2address.json?x=\" + str(lng) + \"&y=\" + str(lat)\n",
        "    apikey = \"5e5acc55c8584f36abffe26633c82550\"\n",
        "    r = requests.get( url, headers={'Authorization' : 'KakaoAK ' + apikey })\n",
        "    return r.json()[\"documents\"][0][\"address\"][\"address_name\"]\n"
      ],
      "execution_count": 22,
      "outputs": []
    },
    {
      "cell_type": "code",
      "metadata": {
        "id": "cP9w0VYPodar",
        "colab": {
          "base_uri": "https://localhost:8080/"
        },
        "outputId": "090c67f9-2bfc-4997-dff4-d09b3eb8f7a9"
      },
      "source": [
        "print(getAddress(35.98798126,129.4399253))"
      ],
      "execution_count": 23,
      "outputs": [
        {
          "output_type": "stream",
          "text": [
            "경북 포항시 남구 동해면 도구리 668-6\n"
          ],
          "name": "stdout"
        }
      ]
    },
    {
      "cell_type": "code",
      "metadata": {
        "colab": {
          "base_uri": "https://localhost:8080/",
          "height": 300
        },
        "id": "PvChb_lftJfU",
        "outputId": "4e527196-33e7-4a41-a6a4-861c07f6a26b"
      },
      "source": [
        "for i in range(len(df)): \n",
        "    add_lat = data_copy.iloc[i]['위도']\n",
        "    add_lng = data_copy.iloc[i]['경도']\n",
        "    code = getAddress(add_lat,add_lng)\n",
        "    data_copy.loc[i, ['CODE']] = code"
      ],
      "execution_count": 29,
      "outputs": [
        {
          "output_type": "error",
          "ename": "IndexError",
          "evalue": "ignored",
          "traceback": [
            "\u001b[0;31m---------------------------------------------------------------------------\u001b[0m",
            "\u001b[0;31mIndexError\u001b[0m                                Traceback (most recent call last)",
            "\u001b[0;32m<ipython-input-29-b969c31011a8>\u001b[0m in \u001b[0;36m<module>\u001b[0;34m()\u001b[0m\n\u001b[1;32m      2\u001b[0m     \u001b[0madd_lat\u001b[0m \u001b[0;34m=\u001b[0m \u001b[0mdata_copy\u001b[0m\u001b[0;34m.\u001b[0m\u001b[0miloc\u001b[0m\u001b[0;34m[\u001b[0m\u001b[0mi\u001b[0m\u001b[0;34m]\u001b[0m\u001b[0;34m[\u001b[0m\u001b[0;34m'위도'\u001b[0m\u001b[0;34m]\u001b[0m\u001b[0;34m\u001b[0m\u001b[0;34m\u001b[0m\u001b[0m\n\u001b[1;32m      3\u001b[0m     \u001b[0madd_lng\u001b[0m \u001b[0;34m=\u001b[0m \u001b[0mdata_copy\u001b[0m\u001b[0;34m.\u001b[0m\u001b[0miloc\u001b[0m\u001b[0;34m[\u001b[0m\u001b[0mi\u001b[0m\u001b[0;34m]\u001b[0m\u001b[0;34m[\u001b[0m\u001b[0;34m'경도'\u001b[0m\u001b[0;34m]\u001b[0m\u001b[0;34m\u001b[0m\u001b[0;34m\u001b[0m\u001b[0m\n\u001b[0;32m----> 4\u001b[0;31m     \u001b[0mcode\u001b[0m \u001b[0;34m=\u001b[0m \u001b[0mgetAddress\u001b[0m\u001b[0;34m(\u001b[0m\u001b[0madd_lat\u001b[0m\u001b[0;34m,\u001b[0m\u001b[0madd_lng\u001b[0m\u001b[0;34m)\u001b[0m\u001b[0;34m\u001b[0m\u001b[0;34m\u001b[0m\u001b[0m\n\u001b[0m\u001b[1;32m      5\u001b[0m     \u001b[0mdata_copy\u001b[0m\u001b[0;34m.\u001b[0m\u001b[0mloc\u001b[0m\u001b[0;34m[\u001b[0m\u001b[0mi\u001b[0m\u001b[0;34m,\u001b[0m \u001b[0;34m[\u001b[0m\u001b[0;34m'CODE'\u001b[0m\u001b[0;34m]\u001b[0m\u001b[0;34m]\u001b[0m \u001b[0;34m=\u001b[0m \u001b[0mcode\u001b[0m\u001b[0;34m\u001b[0m\u001b[0;34m\u001b[0m\u001b[0m\n",
            "\u001b[0;32m<ipython-input-22-218faf8d5d2c>\u001b[0m in \u001b[0;36mgetAddress\u001b[0;34m(lat, lng)\u001b[0m\n\u001b[1;32m      5\u001b[0m     \u001b[0mapikey\u001b[0m \u001b[0;34m=\u001b[0m \u001b[0;34m\"5e5acc55c8584f36abffe26633c82550\"\u001b[0m\u001b[0;34m\u001b[0m\u001b[0;34m\u001b[0m\u001b[0m\n\u001b[1;32m      6\u001b[0m     \u001b[0mr\u001b[0m \u001b[0;34m=\u001b[0m \u001b[0mrequests\u001b[0m\u001b[0;34m.\u001b[0m\u001b[0mget\u001b[0m\u001b[0;34m(\u001b[0m \u001b[0murl\u001b[0m\u001b[0;34m,\u001b[0m \u001b[0mheaders\u001b[0m\u001b[0;34m=\u001b[0m\u001b[0;34m{\u001b[0m\u001b[0;34m'Authorization'\u001b[0m \u001b[0;34m:\u001b[0m \u001b[0;34m'KakaoAK '\u001b[0m \u001b[0;34m+\u001b[0m \u001b[0mapikey\u001b[0m \u001b[0;34m}\u001b[0m\u001b[0;34m)\u001b[0m\u001b[0;34m\u001b[0m\u001b[0;34m\u001b[0m\u001b[0m\n\u001b[0;32m----> 7\u001b[0;31m     \u001b[0;32mreturn\u001b[0m \u001b[0mr\u001b[0m\u001b[0;34m.\u001b[0m\u001b[0mjson\u001b[0m\u001b[0;34m(\u001b[0m\u001b[0;34m)\u001b[0m\u001b[0;34m[\u001b[0m\u001b[0;34m\"documents\"\u001b[0m\u001b[0;34m]\u001b[0m\u001b[0;34m[\u001b[0m\u001b[0;36m0\u001b[0m\u001b[0;34m]\u001b[0m\u001b[0;34m[\u001b[0m\u001b[0;34m\"address\"\u001b[0m\u001b[0;34m]\u001b[0m\u001b[0;34m[\u001b[0m\u001b[0;34m\"address_name\"\u001b[0m\u001b[0;34m]\u001b[0m\u001b[0;34m\u001b[0m\u001b[0;34m\u001b[0m\u001b[0m\n\u001b[0m",
            "\u001b[0;31mIndexError\u001b[0m: list index out of range"
          ]
        }
      ]
    },
    {
      "cell_type": "code",
      "metadata": {
        "id": "-VjNAHlUkzOa"
      },
      "source": [
        "import requests\n",
        "\n",
        "def getcode(add):\n",
        "    url = \"https://dapi.kakao.com/v2/local/search/address.json?query=\"+add\n",
        "    apikey = \"5e5acc55c8584f36abffe26633c82550\"\n",
        "    r = requests.get( url, headers={'Authorization' : 'KakaoAK ' + apikey })\n",
        "    if len(r.json()['documents']) != 0:\n",
        "      return r.json()['documents'][0]['address']['h_code']\n",
        "    else:\n",
        "       return \"NULL\"\n"
      ],
      "execution_count": 39,
      "outputs": []
    },
    {
      "cell_type": "code",
      "metadata": {
        "id": "2t4rQomGU3hh",
        "colab": {
          "base_uri": "https://localhost:8080/",
          "height": 358
        },
        "outputId": "f3506491-dc1f-48e8-9d3c-decff217710e"
      },
      "source": [
        "for i in range(len(df)): \n",
        "    add = data.iloc[i]['소재지지번주소']\n",
        "    code = getcode(add)\n",
        "    data.loc[i, ['CODE_H']] = code"
      ],
      "execution_count": 40,
      "outputs": [
        {
          "output_type": "error",
          "ename": "KeyboardInterrupt",
          "evalue": "ignored",
          "traceback": [
            "\u001b[0;31m---------------------------------------------------------------------------\u001b[0m",
            "\u001b[0;31mKeyboardInterrupt\u001b[0m                         Traceback (most recent call last)",
            "\u001b[0;32m<ipython-input-40-e900e49affbd>\u001b[0m in \u001b[0;36m<module>\u001b[0;34m()\u001b[0m\n\u001b[1;32m      1\u001b[0m \u001b[0;32mfor\u001b[0m \u001b[0mi\u001b[0m \u001b[0;32min\u001b[0m \u001b[0mrange\u001b[0m\u001b[0;34m(\u001b[0m\u001b[0mlen\u001b[0m\u001b[0;34m(\u001b[0m\u001b[0mdf\u001b[0m\u001b[0;34m)\u001b[0m\u001b[0;34m)\u001b[0m\u001b[0;34m:\u001b[0m\u001b[0;34m\u001b[0m\u001b[0;34m\u001b[0m\u001b[0m\n\u001b[1;32m      2\u001b[0m     \u001b[0madd\u001b[0m \u001b[0;34m=\u001b[0m \u001b[0mdata\u001b[0m\u001b[0;34m.\u001b[0m\u001b[0miloc\u001b[0m\u001b[0;34m[\u001b[0m\u001b[0mi\u001b[0m\u001b[0;34m]\u001b[0m\u001b[0;34m[\u001b[0m\u001b[0;34m'소재지지번주소'\u001b[0m\u001b[0;34m]\u001b[0m\u001b[0;34m\u001b[0m\u001b[0;34m\u001b[0m\u001b[0m\n\u001b[0;32m----> 3\u001b[0;31m     \u001b[0mcode\u001b[0m \u001b[0;34m=\u001b[0m \u001b[0mgetcode\u001b[0m\u001b[0;34m(\u001b[0m\u001b[0madd\u001b[0m\u001b[0;34m)\u001b[0m\u001b[0;34m\u001b[0m\u001b[0;34m\u001b[0m\u001b[0m\n\u001b[0m\u001b[1;32m      4\u001b[0m     \u001b[0mdata\u001b[0m\u001b[0;34m.\u001b[0m\u001b[0mloc\u001b[0m\u001b[0;34m[\u001b[0m\u001b[0mi\u001b[0m\u001b[0;34m,\u001b[0m \u001b[0;34m[\u001b[0m\u001b[0;34m'CODE_H'\u001b[0m\u001b[0;34m]\u001b[0m\u001b[0;34m]\u001b[0m \u001b[0;34m=\u001b[0m \u001b[0mcode\u001b[0m\u001b[0;34m\u001b[0m\u001b[0;34m\u001b[0m\u001b[0m\n",
            "\u001b[0;32m<ipython-input-39-e5562236d134>\u001b[0m in \u001b[0;36mgetcode\u001b[0;34m(add)\u001b[0m\n\u001b[1;32m      4\u001b[0m     \u001b[0murl\u001b[0m \u001b[0;34m=\u001b[0m \u001b[0;34m\"https://dapi.kakao.com/v2/local/search/address.json?query=\"\u001b[0m\u001b[0;34m+\u001b[0m\u001b[0madd\u001b[0m\u001b[0;34m\u001b[0m\u001b[0;34m\u001b[0m\u001b[0m\n\u001b[1;32m      5\u001b[0m     \u001b[0mapikey\u001b[0m \u001b[0;34m=\u001b[0m \u001b[0;34m\"5e5acc55c8584f36abffe26633c82550\"\u001b[0m\u001b[0;34m\u001b[0m\u001b[0;34m\u001b[0m\u001b[0m\n\u001b[0;32m----> 6\u001b[0;31m     \u001b[0mr\u001b[0m \u001b[0;34m=\u001b[0m \u001b[0mrequests\u001b[0m\u001b[0;34m.\u001b[0m\u001b[0mget\u001b[0m\u001b[0;34m(\u001b[0m \u001b[0murl\u001b[0m\u001b[0;34m,\u001b[0m \u001b[0mheaders\u001b[0m\u001b[0;34m=\u001b[0m\u001b[0;34m{\u001b[0m\u001b[0;34m'Authorization'\u001b[0m \u001b[0;34m:\u001b[0m \u001b[0;34m'KakaoAK '\u001b[0m \u001b[0;34m+\u001b[0m \u001b[0mapikey\u001b[0m \u001b[0;34m}\u001b[0m\u001b[0;34m)\u001b[0m\u001b[0;34m\u001b[0m\u001b[0;34m\u001b[0m\u001b[0m\n\u001b[0m\u001b[1;32m      7\u001b[0m     \u001b[0;32mif\u001b[0m \u001b[0mlen\u001b[0m\u001b[0;34m(\u001b[0m\u001b[0mr\u001b[0m\u001b[0;34m.\u001b[0m\u001b[0mjson\u001b[0m\u001b[0;34m(\u001b[0m\u001b[0;34m)\u001b[0m\u001b[0;34m[\u001b[0m\u001b[0;34m'documents'\u001b[0m\u001b[0;34m]\u001b[0m\u001b[0;34m)\u001b[0m \u001b[0;34m!=\u001b[0m \u001b[0;36m0\u001b[0m\u001b[0;34m:\u001b[0m\u001b[0;34m\u001b[0m\u001b[0;34m\u001b[0m\u001b[0m\n\u001b[1;32m      8\u001b[0m       \u001b[0;32mreturn\u001b[0m \u001b[0mr\u001b[0m\u001b[0;34m.\u001b[0m\u001b[0mjson\u001b[0m\u001b[0;34m(\u001b[0m\u001b[0;34m)\u001b[0m\u001b[0;34m[\u001b[0m\u001b[0;34m'documents'\u001b[0m\u001b[0;34m]\u001b[0m\u001b[0;34m[\u001b[0m\u001b[0;36m0\u001b[0m\u001b[0;34m]\u001b[0m\u001b[0;34m[\u001b[0m\u001b[0;34m'address'\u001b[0m\u001b[0;34m]\u001b[0m\u001b[0;34m[\u001b[0m\u001b[0;34m'h_code'\u001b[0m\u001b[0;34m]\u001b[0m\u001b[0;34m\u001b[0m\u001b[0;34m\u001b[0m\u001b[0m\n",
            "\u001b[0;32m/usr/local/lib/python3.7/dist-packages/requests/api.py\u001b[0m in \u001b[0;36mget\u001b[0;34m(url, params, **kwargs)\u001b[0m\n\u001b[1;32m     74\u001b[0m \u001b[0;34m\u001b[0m\u001b[0m\n\u001b[1;32m     75\u001b[0m     \u001b[0mkwargs\u001b[0m\u001b[0;34m.\u001b[0m\u001b[0msetdefault\u001b[0m\u001b[0;34m(\u001b[0m\u001b[0;34m'allow_redirects'\u001b[0m\u001b[0;34m,\u001b[0m \u001b[0;32mTrue\u001b[0m\u001b[0;34m)\u001b[0m\u001b[0;34m\u001b[0m\u001b[0;34m\u001b[0m\u001b[0m\n\u001b[0;32m---> 76\u001b[0;31m     \u001b[0;32mreturn\u001b[0m \u001b[0mrequest\u001b[0m\u001b[0;34m(\u001b[0m\u001b[0;34m'get'\u001b[0m\u001b[0;34m,\u001b[0m \u001b[0murl\u001b[0m\u001b[0;34m,\u001b[0m \u001b[0mparams\u001b[0m\u001b[0;34m=\u001b[0m\u001b[0mparams\u001b[0m\u001b[0;34m,\u001b[0m \u001b[0;34m**\u001b[0m\u001b[0mkwargs\u001b[0m\u001b[0;34m)\u001b[0m\u001b[0;34m\u001b[0m\u001b[0;34m\u001b[0m\u001b[0m\n\u001b[0m\u001b[1;32m     77\u001b[0m \u001b[0;34m\u001b[0m\u001b[0m\n\u001b[1;32m     78\u001b[0m \u001b[0;34m\u001b[0m\u001b[0m\n",
            "\u001b[0;32m/usr/local/lib/python3.7/dist-packages/requests/api.py\u001b[0m in \u001b[0;36mrequest\u001b[0;34m(method, url, **kwargs)\u001b[0m\n\u001b[1;32m     59\u001b[0m     \u001b[0;31m# cases, and look like a memory leak in others.\u001b[0m\u001b[0;34m\u001b[0m\u001b[0;34m\u001b[0m\u001b[0;34m\u001b[0m\u001b[0m\n\u001b[1;32m     60\u001b[0m     \u001b[0;32mwith\u001b[0m \u001b[0msessions\u001b[0m\u001b[0;34m.\u001b[0m\u001b[0mSession\u001b[0m\u001b[0;34m(\u001b[0m\u001b[0;34m)\u001b[0m \u001b[0;32mas\u001b[0m \u001b[0msession\u001b[0m\u001b[0;34m:\u001b[0m\u001b[0;34m\u001b[0m\u001b[0;34m\u001b[0m\u001b[0m\n\u001b[0;32m---> 61\u001b[0;31m         \u001b[0;32mreturn\u001b[0m \u001b[0msession\u001b[0m\u001b[0;34m.\u001b[0m\u001b[0mrequest\u001b[0m\u001b[0;34m(\u001b[0m\u001b[0mmethod\u001b[0m\u001b[0;34m=\u001b[0m\u001b[0mmethod\u001b[0m\u001b[0;34m,\u001b[0m \u001b[0murl\u001b[0m\u001b[0;34m=\u001b[0m\u001b[0murl\u001b[0m\u001b[0;34m,\u001b[0m \u001b[0;34m**\u001b[0m\u001b[0mkwargs\u001b[0m\u001b[0;34m)\u001b[0m\u001b[0;34m\u001b[0m\u001b[0;34m\u001b[0m\u001b[0m\n\u001b[0m\u001b[1;32m     62\u001b[0m \u001b[0;34m\u001b[0m\u001b[0m\n\u001b[1;32m     63\u001b[0m \u001b[0;34m\u001b[0m\u001b[0m\n",
            "\u001b[0;32m/usr/local/lib/python3.7/dist-packages/requests/sessions.py\u001b[0m in \u001b[0;36mrequest\u001b[0;34m(self, method, url, params, data, headers, cookies, files, auth, timeout, allow_redirects, proxies, hooks, stream, verify, cert, json)\u001b[0m\n\u001b[1;32m    528\u001b[0m         }\n\u001b[1;32m    529\u001b[0m         \u001b[0msend_kwargs\u001b[0m\u001b[0;34m.\u001b[0m\u001b[0mupdate\u001b[0m\u001b[0;34m(\u001b[0m\u001b[0msettings\u001b[0m\u001b[0;34m)\u001b[0m\u001b[0;34m\u001b[0m\u001b[0;34m\u001b[0m\u001b[0m\n\u001b[0;32m--> 530\u001b[0;31m         \u001b[0mresp\u001b[0m \u001b[0;34m=\u001b[0m \u001b[0mself\u001b[0m\u001b[0;34m.\u001b[0m\u001b[0msend\u001b[0m\u001b[0;34m(\u001b[0m\u001b[0mprep\u001b[0m\u001b[0;34m,\u001b[0m \u001b[0;34m**\u001b[0m\u001b[0msend_kwargs\u001b[0m\u001b[0;34m)\u001b[0m\u001b[0;34m\u001b[0m\u001b[0;34m\u001b[0m\u001b[0m\n\u001b[0m\u001b[1;32m    531\u001b[0m \u001b[0;34m\u001b[0m\u001b[0m\n\u001b[1;32m    532\u001b[0m         \u001b[0;32mreturn\u001b[0m \u001b[0mresp\u001b[0m\u001b[0;34m\u001b[0m\u001b[0;34m\u001b[0m\u001b[0m\n",
            "\u001b[0;32m/usr/local/lib/python3.7/dist-packages/requests/sessions.py\u001b[0m in \u001b[0;36msend\u001b[0;34m(self, request, **kwargs)\u001b[0m\n\u001b[1;32m    641\u001b[0m \u001b[0;34m\u001b[0m\u001b[0m\n\u001b[1;32m    642\u001b[0m         \u001b[0;31m# Send the request\u001b[0m\u001b[0;34m\u001b[0m\u001b[0;34m\u001b[0m\u001b[0;34m\u001b[0m\u001b[0m\n\u001b[0;32m--> 643\u001b[0;31m         \u001b[0mr\u001b[0m \u001b[0;34m=\u001b[0m \u001b[0madapter\u001b[0m\u001b[0;34m.\u001b[0m\u001b[0msend\u001b[0m\u001b[0;34m(\u001b[0m\u001b[0mrequest\u001b[0m\u001b[0;34m,\u001b[0m \u001b[0;34m**\u001b[0m\u001b[0mkwargs\u001b[0m\u001b[0;34m)\u001b[0m\u001b[0;34m\u001b[0m\u001b[0;34m\u001b[0m\u001b[0m\n\u001b[0m\u001b[1;32m    644\u001b[0m \u001b[0;34m\u001b[0m\u001b[0m\n\u001b[1;32m    645\u001b[0m         \u001b[0;31m# Total elapsed time of the request (approximately)\u001b[0m\u001b[0;34m\u001b[0m\u001b[0;34m\u001b[0m\u001b[0;34m\u001b[0m\u001b[0m\n",
            "\u001b[0;32m/usr/local/lib/python3.7/dist-packages/requests/adapters.py\u001b[0m in \u001b[0;36msend\u001b[0;34m(self, request, stream, timeout, verify, cert, proxies)\u001b[0m\n\u001b[1;32m    447\u001b[0m                     \u001b[0mdecode_content\u001b[0m\u001b[0;34m=\u001b[0m\u001b[0;32mFalse\u001b[0m\u001b[0;34m,\u001b[0m\u001b[0;34m\u001b[0m\u001b[0;34m\u001b[0m\u001b[0m\n\u001b[1;32m    448\u001b[0m                     \u001b[0mretries\u001b[0m\u001b[0;34m=\u001b[0m\u001b[0mself\u001b[0m\u001b[0;34m.\u001b[0m\u001b[0mmax_retries\u001b[0m\u001b[0;34m,\u001b[0m\u001b[0;34m\u001b[0m\u001b[0;34m\u001b[0m\u001b[0m\n\u001b[0;32m--> 449\u001b[0;31m                     \u001b[0mtimeout\u001b[0m\u001b[0;34m=\u001b[0m\u001b[0mtimeout\u001b[0m\u001b[0;34m\u001b[0m\u001b[0;34m\u001b[0m\u001b[0m\n\u001b[0m\u001b[1;32m    450\u001b[0m                 )\n\u001b[1;32m    451\u001b[0m \u001b[0;34m\u001b[0m\u001b[0m\n",
            "\u001b[0;32m/usr/local/lib/python3.7/dist-packages/urllib3/connectionpool.py\u001b[0m in \u001b[0;36murlopen\u001b[0;34m(self, method, url, body, headers, retries, redirect, assert_same_host, timeout, pool_timeout, release_conn, chunked, body_pos, **response_kw)\u001b[0m\n\u001b[1;32m    598\u001b[0m                                                   \u001b[0mtimeout\u001b[0m\u001b[0;34m=\u001b[0m\u001b[0mtimeout_obj\u001b[0m\u001b[0;34m,\u001b[0m\u001b[0;34m\u001b[0m\u001b[0;34m\u001b[0m\u001b[0m\n\u001b[1;32m    599\u001b[0m                                                   \u001b[0mbody\u001b[0m\u001b[0;34m=\u001b[0m\u001b[0mbody\u001b[0m\u001b[0;34m,\u001b[0m \u001b[0mheaders\u001b[0m\u001b[0;34m=\u001b[0m\u001b[0mheaders\u001b[0m\u001b[0;34m,\u001b[0m\u001b[0;34m\u001b[0m\u001b[0;34m\u001b[0m\u001b[0m\n\u001b[0;32m--> 600\u001b[0;31m                                                   chunked=chunked)\n\u001b[0m\u001b[1;32m    601\u001b[0m \u001b[0;34m\u001b[0m\u001b[0m\n\u001b[1;32m    602\u001b[0m             \u001b[0;31m# If we're going to release the connection in ``finally:``, then\u001b[0m\u001b[0;34m\u001b[0m\u001b[0;34m\u001b[0m\u001b[0;34m\u001b[0m\u001b[0m\n",
            "\u001b[0;32m/usr/local/lib/python3.7/dist-packages/urllib3/connectionpool.py\u001b[0m in \u001b[0;36m_make_request\u001b[0;34m(self, conn, method, url, timeout, chunked, **httplib_request_kw)\u001b[0m\n\u001b[1;32m    341\u001b[0m         \u001b[0;31m# Trigger any extra validation we need to do.\u001b[0m\u001b[0;34m\u001b[0m\u001b[0;34m\u001b[0m\u001b[0;34m\u001b[0m\u001b[0m\n\u001b[1;32m    342\u001b[0m         \u001b[0;32mtry\u001b[0m\u001b[0;34m:\u001b[0m\u001b[0;34m\u001b[0m\u001b[0;34m\u001b[0m\u001b[0m\n\u001b[0;32m--> 343\u001b[0;31m             \u001b[0mself\u001b[0m\u001b[0;34m.\u001b[0m\u001b[0m_validate_conn\u001b[0m\u001b[0;34m(\u001b[0m\u001b[0mconn\u001b[0m\u001b[0;34m)\u001b[0m\u001b[0;34m\u001b[0m\u001b[0;34m\u001b[0m\u001b[0m\n\u001b[0m\u001b[1;32m    344\u001b[0m         \u001b[0;32mexcept\u001b[0m \u001b[0;34m(\u001b[0m\u001b[0mSocketTimeout\u001b[0m\u001b[0;34m,\u001b[0m \u001b[0mBaseSSLError\u001b[0m\u001b[0;34m)\u001b[0m \u001b[0;32mas\u001b[0m \u001b[0me\u001b[0m\u001b[0;34m:\u001b[0m\u001b[0;34m\u001b[0m\u001b[0;34m\u001b[0m\u001b[0m\n\u001b[1;32m    345\u001b[0m             \u001b[0;31m# Py2 raises this as a BaseSSLError, Py3 raises it as socket timeout.\u001b[0m\u001b[0;34m\u001b[0m\u001b[0;34m\u001b[0m\u001b[0;34m\u001b[0m\u001b[0m\n",
            "\u001b[0;32m/usr/local/lib/python3.7/dist-packages/urllib3/connectionpool.py\u001b[0m in \u001b[0;36m_validate_conn\u001b[0;34m(self, conn)\u001b[0m\n\u001b[1;32m    837\u001b[0m         \u001b[0;31m# Force connect early to allow us to validate the connection.\u001b[0m\u001b[0;34m\u001b[0m\u001b[0;34m\u001b[0m\u001b[0;34m\u001b[0m\u001b[0m\n\u001b[1;32m    838\u001b[0m         \u001b[0;32mif\u001b[0m \u001b[0;32mnot\u001b[0m \u001b[0mgetattr\u001b[0m\u001b[0;34m(\u001b[0m\u001b[0mconn\u001b[0m\u001b[0;34m,\u001b[0m \u001b[0;34m'sock'\u001b[0m\u001b[0;34m,\u001b[0m \u001b[0;32mNone\u001b[0m\u001b[0;34m)\u001b[0m\u001b[0;34m:\u001b[0m  \u001b[0;31m# AppEngine might not have  `.sock`\u001b[0m\u001b[0;34m\u001b[0m\u001b[0;34m\u001b[0m\u001b[0m\n\u001b[0;32m--> 839\u001b[0;31m             \u001b[0mconn\u001b[0m\u001b[0;34m.\u001b[0m\u001b[0mconnect\u001b[0m\u001b[0;34m(\u001b[0m\u001b[0;34m)\u001b[0m\u001b[0;34m\u001b[0m\u001b[0;34m\u001b[0m\u001b[0m\n\u001b[0m\u001b[1;32m    840\u001b[0m \u001b[0;34m\u001b[0m\u001b[0m\n\u001b[1;32m    841\u001b[0m         \u001b[0;32mif\u001b[0m \u001b[0;32mnot\u001b[0m \u001b[0mconn\u001b[0m\u001b[0;34m.\u001b[0m\u001b[0mis_verified\u001b[0m\u001b[0;34m:\u001b[0m\u001b[0;34m\u001b[0m\u001b[0;34m\u001b[0m\u001b[0m\n",
            "\u001b[0;32m/usr/local/lib/python3.7/dist-packages/urllib3/connection.py\u001b[0m in \u001b[0;36mconnect\u001b[0;34m(self)\u001b[0m\n\u001b[1;32m    299\u001b[0m     \u001b[0;32mdef\u001b[0m \u001b[0mconnect\u001b[0m\u001b[0;34m(\u001b[0m\u001b[0mself\u001b[0m\u001b[0;34m)\u001b[0m\u001b[0;34m:\u001b[0m\u001b[0;34m\u001b[0m\u001b[0;34m\u001b[0m\u001b[0m\n\u001b[1;32m    300\u001b[0m         \u001b[0;31m# Add certificate verification\u001b[0m\u001b[0;34m\u001b[0m\u001b[0;34m\u001b[0m\u001b[0;34m\u001b[0m\u001b[0m\n\u001b[0;32m--> 301\u001b[0;31m         \u001b[0mconn\u001b[0m \u001b[0;34m=\u001b[0m \u001b[0mself\u001b[0m\u001b[0;34m.\u001b[0m\u001b[0m_new_conn\u001b[0m\u001b[0;34m(\u001b[0m\u001b[0;34m)\u001b[0m\u001b[0;34m\u001b[0m\u001b[0;34m\u001b[0m\u001b[0m\n\u001b[0m\u001b[1;32m    302\u001b[0m         \u001b[0mhostname\u001b[0m \u001b[0;34m=\u001b[0m \u001b[0mself\u001b[0m\u001b[0;34m.\u001b[0m\u001b[0mhost\u001b[0m\u001b[0;34m\u001b[0m\u001b[0;34m\u001b[0m\u001b[0m\n\u001b[1;32m    303\u001b[0m \u001b[0;34m\u001b[0m\u001b[0m\n",
            "\u001b[0;32m/usr/local/lib/python3.7/dist-packages/urllib3/connection.py\u001b[0m in \u001b[0;36m_new_conn\u001b[0;34m(self)\u001b[0m\n\u001b[1;32m    157\u001b[0m         \u001b[0;32mtry\u001b[0m\u001b[0;34m:\u001b[0m\u001b[0;34m\u001b[0m\u001b[0;34m\u001b[0m\u001b[0m\n\u001b[1;32m    158\u001b[0m             conn = connection.create_connection(\n\u001b[0;32m--> 159\u001b[0;31m                 (self._dns_host, self.port), self.timeout, **extra_kw)\n\u001b[0m\u001b[1;32m    160\u001b[0m \u001b[0;34m\u001b[0m\u001b[0m\n\u001b[1;32m    161\u001b[0m         \u001b[0;32mexcept\u001b[0m \u001b[0mSocketTimeout\u001b[0m\u001b[0;34m:\u001b[0m\u001b[0;34m\u001b[0m\u001b[0;34m\u001b[0m\u001b[0m\n",
            "\u001b[0;32m/usr/local/lib/python3.7/dist-packages/urllib3/util/connection.py\u001b[0m in \u001b[0;36mcreate_connection\u001b[0;34m(address, timeout, source_address, socket_options)\u001b[0m\n\u001b[1;32m     68\u001b[0m             \u001b[0;32mif\u001b[0m \u001b[0msource_address\u001b[0m\u001b[0;34m:\u001b[0m\u001b[0;34m\u001b[0m\u001b[0;34m\u001b[0m\u001b[0m\n\u001b[1;32m     69\u001b[0m                 \u001b[0msock\u001b[0m\u001b[0;34m.\u001b[0m\u001b[0mbind\u001b[0m\u001b[0;34m(\u001b[0m\u001b[0msource_address\u001b[0m\u001b[0;34m)\u001b[0m\u001b[0;34m\u001b[0m\u001b[0;34m\u001b[0m\u001b[0m\n\u001b[0;32m---> 70\u001b[0;31m             \u001b[0msock\u001b[0m\u001b[0;34m.\u001b[0m\u001b[0mconnect\u001b[0m\u001b[0;34m(\u001b[0m\u001b[0msa\u001b[0m\u001b[0;34m)\u001b[0m\u001b[0;34m\u001b[0m\u001b[0;34m\u001b[0m\u001b[0m\n\u001b[0m\u001b[1;32m     71\u001b[0m             \u001b[0;32mreturn\u001b[0m \u001b[0msock\u001b[0m\u001b[0;34m\u001b[0m\u001b[0;34m\u001b[0m\u001b[0m\n\u001b[1;32m     72\u001b[0m \u001b[0;34m\u001b[0m\u001b[0m\n",
            "\u001b[0;31mKeyboardInterrupt\u001b[0m: "
          ]
        }
      ]
    },
    {
      "cell_type": "code",
      "metadata": {
        "colab": {
          "base_uri": "https://localhost:8080/",
          "height": 742
        },
        "id": "xieqKIqdxUeu",
        "outputId": "f94bd4f1-8159-4ecf-82b2-8e96f5c28557"
      },
      "source": [
        "data"
      ],
      "execution_count": 36,
      "outputs": [
        {
          "output_type": "execute_result",
          "data": {
            "text/html": [
              "<div>\n",
              "<style scoped>\n",
              "    .dataframe tbody tr th:only-of-type {\n",
              "        vertical-align: middle;\n",
              "    }\n",
              "\n",
              "    .dataframe tbody tr th {\n",
              "        vertical-align: top;\n",
              "    }\n",
              "\n",
              "    .dataframe thead th {\n",
              "        text-align: right;\n",
              "    }\n",
              "</style>\n",
              "<table border=\"1\" class=\"dataframe\">\n",
              "  <thead>\n",
              "    <tr style=\"text-align: right;\">\n",
              "      <th></th>\n",
              "      <th>시장명</th>\n",
              "      <th>시장유형</th>\n",
              "      <th>소재지도로명주소</th>\n",
              "      <th>소재지지번주소</th>\n",
              "      <th>시장개설주기</th>\n",
              "      <th>위도</th>\n",
              "      <th>경도</th>\n",
              "      <th>점포수</th>\n",
              "      <th>취급품목</th>\n",
              "      <th>사용가능상품권</th>\n",
              "      <th>홈페이지주소</th>\n",
              "      <th>공중화장실보유여부</th>\n",
              "      <th>주차장보유여부</th>\n",
              "      <th>개설연도</th>\n",
              "      <th>전화번호</th>\n",
              "      <th>데이터기준일자</th>\n",
              "      <th>제공기관코드</th>\n",
              "      <th>제공기관명</th>\n",
              "      <th>CODE_H</th>\n",
              "    </tr>\n",
              "  </thead>\n",
              "  <tbody>\n",
              "    <tr>\n",
              "      <th>0</th>\n",
              "      <td>도구시장</td>\n",
              "      <td>5일장</td>\n",
              "      <td>NaN</td>\n",
              "      <td>경상북도 포항시 남구 동해면 도구리 668-1</td>\n",
              "      <td>2일,7일</td>\n",
              "      <td>35.987981</td>\n",
              "      <td>129.439925</td>\n",
              "      <td>10.0</td>\n",
              "      <td>농산물 생필품, 수산물, 잡화 등</td>\n",
              "      <td>포항사랑상품권, 온누리상품권</td>\n",
              "      <td>NaN</td>\n",
              "      <td>Y</td>\n",
              "      <td>Y</td>\n",
              "      <td>1915</td>\n",
              "      <td>NaN</td>\n",
              "      <td>2020.2.25</td>\n",
              "      <td>6470000</td>\n",
              "      <td>경상북도</td>\n",
              "      <td>4711132000</td>\n",
              "    </tr>\n",
              "    <tr>\n",
              "      <th>1</th>\n",
              "      <td>장기시장</td>\n",
              "      <td>5일장</td>\n",
              "      <td>NaN</td>\n",
              "      <td>경상북도 포항시 남구 장기면 임중리 333-2</td>\n",
              "      <td>4일,9일</td>\n",
              "      <td>35.891559</td>\n",
              "      <td>129.491439</td>\n",
              "      <td>13.0</td>\n",
              "      <td>농산물 생필품, 수산물, 잡화 등</td>\n",
              "      <td>포항사랑상품권, 온누리상품권</td>\n",
              "      <td>NaN</td>\n",
              "      <td>Y</td>\n",
              "      <td>N</td>\n",
              "      <td>1914</td>\n",
              "      <td>NaN</td>\n",
              "      <td>2020.2.25</td>\n",
              "      <td>6470000</td>\n",
              "      <td>경상북도</td>\n",
              "      <td>4711133000</td>\n",
              "    </tr>\n",
              "    <tr>\n",
              "      <th>2</th>\n",
              "      <td>신광시장</td>\n",
              "      <td>5일장</td>\n",
              "      <td>NaN</td>\n",
              "      <td>경상북도 포항시 북구 신광면 토성리 486-5</td>\n",
              "      <td>5일,10일</td>\n",
              "      <td>36.128680</td>\n",
              "      <td>129.261912</td>\n",
              "      <td>22.0</td>\n",
              "      <td>농산물 생필품, 수산물, 잡화 등</td>\n",
              "      <td>포항사랑상품권, 온누리상품권</td>\n",
              "      <td>NaN</td>\n",
              "      <td>Y</td>\n",
              "      <td>N</td>\n",
              "      <td>1965</td>\n",
              "      <td>NaN</td>\n",
              "      <td>2020.2.25</td>\n",
              "      <td>6470000</td>\n",
              "      <td>경상북도</td>\n",
              "      <td>4711331000</td>\n",
              "    </tr>\n",
              "    <tr>\n",
              "      <th>3</th>\n",
              "      <td>기계시장</td>\n",
              "      <td>5일장</td>\n",
              "      <td>NaN</td>\n",
              "      <td>경상북도 포항시 북구 기계면 현내리 403</td>\n",
              "      <td>1일,6일</td>\n",
              "      <td>36.069939</td>\n",
              "      <td>129.208468</td>\n",
              "      <td>18.0</td>\n",
              "      <td>농산물 생필품, 수산물, 잡화 등</td>\n",
              "      <td>포항사랑상품권, 온누리상품권</td>\n",
              "      <td>NaN</td>\n",
              "      <td>Y</td>\n",
              "      <td>N</td>\n",
              "      <td>1923</td>\n",
              "      <td>NaN</td>\n",
              "      <td>2020.2.25</td>\n",
              "      <td>6470000</td>\n",
              "      <td>경상북도</td>\n",
              "      <td>4711334000</td>\n",
              "    </tr>\n",
              "    <tr>\n",
              "      <th>4</th>\n",
              "      <td>죽장시장</td>\n",
              "      <td>5일장</td>\n",
              "      <td>NaN</td>\n",
              "      <td>경상북도 포항시 북구 죽장면 입암리 858-34</td>\n",
              "      <td>3일,8일</td>\n",
              "      <td>36.161583</td>\n",
              "      <td>129.095434</td>\n",
              "      <td>18.0</td>\n",
              "      <td>농산물 생필품, 수산물, 잡화 등</td>\n",
              "      <td>포항사랑상품권, 온누리상품권</td>\n",
              "      <td>NaN</td>\n",
              "      <td>Y</td>\n",
              "      <td>N</td>\n",
              "      <td>1919</td>\n",
              "      <td>NaN</td>\n",
              "      <td>2020.2.25</td>\n",
              "      <td>6470000</td>\n",
              "      <td>경상북도</td>\n",
              "      <td>4711335000</td>\n",
              "    </tr>\n",
              "    <tr>\n",
              "      <th>...</th>\n",
              "      <td>...</td>\n",
              "      <td>...</td>\n",
              "      <td>...</td>\n",
              "      <td>...</td>\n",
              "      <td>...</td>\n",
              "      <td>...</td>\n",
              "      <td>...</td>\n",
              "      <td>...</td>\n",
              "      <td>...</td>\n",
              "      <td>...</td>\n",
              "      <td>...</td>\n",
              "      <td>...</td>\n",
              "      <td>...</td>\n",
              "      <td>...</td>\n",
              "      <td>...</td>\n",
              "      <td>...</td>\n",
              "      <td>...</td>\n",
              "      <td>...</td>\n",
              "      <td>...</td>\n",
              "    </tr>\n",
              "    <tr>\n",
              "      <th>2879</th>\n",
              "      <td>연지상점가</td>\n",
              "      <td>상설장</td>\n",
              "      <td>전라북도 정읍시 명덕로 47</td>\n",
              "      <td>전라북도 정읍시 연지동 329-15</td>\n",
              "      <td>상점가</td>\n",
              "      <td>35.575348</td>\n",
              "      <td>126.844651</td>\n",
              "      <td>382.0</td>\n",
              "      <td>NaN</td>\n",
              "      <td>NaN</td>\n",
              "      <td>NaN</td>\n",
              "      <td>Y</td>\n",
              "      <td>Y</td>\n",
              "      <td>2000</td>\n",
              "      <td>NaN</td>\n",
              "      <td>2019.6.28</td>\n",
              "      <td>6450000</td>\n",
              "      <td>전라북도</td>\n",
              "      <td>NaN</td>\n",
              "    </tr>\n",
              "    <tr>\n",
              "      <th>2880</th>\n",
              "      <td>새암길상점가</td>\n",
              "      <td>상설장</td>\n",
              "      <td>전라북도 정읍시 새암길 40-1(수성동)</td>\n",
              "      <td>전라북도 정읍시 수성동 571-6</td>\n",
              "      <td>상점가</td>\n",
              "      <td>35.567002</td>\n",
              "      <td>126.853082</td>\n",
              "      <td>106.0</td>\n",
              "      <td>귀금속, 신발 등</td>\n",
              "      <td>NaN</td>\n",
              "      <td>NaN</td>\n",
              "      <td>Y</td>\n",
              "      <td>Y</td>\n",
              "      <td>2005</td>\n",
              "      <td>NaN</td>\n",
              "      <td>2019.6.28</td>\n",
              "      <td>6450000</td>\n",
              "      <td>전라북도</td>\n",
              "      <td>NaN</td>\n",
              "    </tr>\n",
              "    <tr>\n",
              "      <th>2881</th>\n",
              "      <td>중앙로상점가</td>\n",
              "      <td>상설장</td>\n",
              "      <td>전라북도 정읍시 중앙로 131</td>\n",
              "      <td>전라북도 정읍시 수성동 563</td>\n",
              "      <td>상점가</td>\n",
              "      <td>35.566605</td>\n",
              "      <td>126.853091</td>\n",
              "      <td>85.0</td>\n",
              "      <td>NaN</td>\n",
              "      <td>NaN</td>\n",
              "      <td>NaN</td>\n",
              "      <td>Y</td>\n",
              "      <td>Y</td>\n",
              "      <td>2010</td>\n",
              "      <td>NaN</td>\n",
              "      <td>2019.6.28</td>\n",
              "      <td>6450000</td>\n",
              "      <td>전라북도</td>\n",
              "      <td>NaN</td>\n",
              "    </tr>\n",
              "    <tr>\n",
              "      <th>2882</th>\n",
              "      <td>서부시장상점가</td>\n",
              "      <td>상설장</td>\n",
              "      <td>전라북도 전주시 완산구 효동2길 23</td>\n",
              "      <td>전라북도 전주시 완산구 효자동 1가205-12</td>\n",
              "      <td>상점가</td>\n",
              "      <td>35.804433</td>\n",
              "      <td>127.126776</td>\n",
              "      <td>105.0</td>\n",
              "      <td>정육, 순대국밥 등</td>\n",
              "      <td>NaN</td>\n",
              "      <td>NaN</td>\n",
              "      <td>Y</td>\n",
              "      <td>Y</td>\n",
              "      <td>2008</td>\n",
              "      <td>NaN</td>\n",
              "      <td>2019.6.28</td>\n",
              "      <td>6450000</td>\n",
              "      <td>전라북도</td>\n",
              "      <td>NaN</td>\n",
              "    </tr>\n",
              "    <tr>\n",
              "      <th>2883</th>\n",
              "      <td>동문상점가</td>\n",
              "      <td>상설장</td>\n",
              "      <td>전라북도 전주시 완산구 동문길 50</td>\n",
              "      <td>전라북도 전주시 완산구 풍남동1가 26-1</td>\n",
              "      <td>상점가</td>\n",
              "      <td>35.819008</td>\n",
              "      <td>127.151082</td>\n",
              "      <td>165.0</td>\n",
              "      <td>NaN</td>\n",
              "      <td>온누리상품권, 전자상품권</td>\n",
              "      <td>NaN</td>\n",
              "      <td>Y</td>\n",
              "      <td>Y</td>\n",
              "      <td>2007</td>\n",
              "      <td>063-288-5288</td>\n",
              "      <td>2019.6.28</td>\n",
              "      <td>6450000</td>\n",
              "      <td>전라북도</td>\n",
              "      <td>NaN</td>\n",
              "    </tr>\n",
              "  </tbody>\n",
              "</table>\n",
              "<p>2884 rows × 19 columns</p>\n",
              "</div>"
            ],
            "text/plain": [
              "          시장명 시장유형                소재지도로명주소  ...   제공기관코드 제공기관명      CODE_H\n",
              "0        도구시장  5일장                     NaN  ...  6470000  경상북도  4711132000\n",
              "1        장기시장  5일장                     NaN  ...  6470000  경상북도  4711133000\n",
              "2        신광시장  5일장                     NaN  ...  6470000  경상북도  4711331000\n",
              "3        기계시장  5일장                     NaN  ...  6470000  경상북도  4711334000\n",
              "4        죽장시장  5일장                     NaN  ...  6470000  경상북도  4711335000\n",
              "...       ...  ...                     ...  ...      ...   ...         ...\n",
              "2879    연지상점가  상설장         전라북도 정읍시 명덕로 47  ...  6450000  전라북도         NaN\n",
              "2880   새암길상점가  상설장  전라북도 정읍시 새암길 40-1(수성동)  ...  6450000  전라북도         NaN\n",
              "2881   중앙로상점가  상설장        전라북도 정읍시 중앙로 131  ...  6450000  전라북도         NaN\n",
              "2882  서부시장상점가  상설장    전라북도 전주시 완산구 효동2길 23  ...  6450000  전라북도         NaN\n",
              "2883    동문상점가  상설장     전라북도 전주시 완산구 동문길 50  ...  6450000  전라북도         NaN\n",
              "\n",
              "[2884 rows x 19 columns]"
            ]
          },
          "metadata": {
            "tags": []
          },
          "execution_count": 36
        }
      ]
    },
    {
      "cell_type": "code",
      "metadata": {
        "id": "oDgqQ3fdw8zP"
      },
      "source": [
        "for i in range(len(df)): \n",
        "    add = data_copy.iloc[i]['CODE']\n",
        "    code = getcode(add)\n",
        "    data.loc[i, ['CODE_H']] = code"
      ],
      "execution_count": null,
      "outputs": []
    },
    {
      "cell_type": "code",
      "metadata": {
        "id": "HXPbtDqRa8vc"
      },
      "source": [
        "getcode(' 용인시 수지구 죽전동 1003-52번지 ')"
      ],
      "execution_count": null,
      "outputs": []
    },
    {
      "cell_type": "code",
      "metadata": {
        "id": "7vbV2dFScnSD"
      },
      "source": [
        "len_text = len(df['소재지지번주소'])"
      ],
      "execution_count": null,
      "outputs": []
    },
    {
      "cell_type": "code",
      "metadata": {
        "colab": {
          "base_uri": "https://localhost:8080/"
        },
        "id": "CgMJwwFlcuLj",
        "outputId": "19661054-9bbd-4e13-9795-94e300899fea"
      },
      "source": [
        "x = 'Sample String'\n",
        "length = 0\n",
        "\n",
        "for i in range(len(df)):\n",
        "    length+=1\n",
        "\n",
        "print(length)"
      ],
      "execution_count": null,
      "outputs": [
        {
          "output_type": "execute_result",
          "data": {
            "text/plain": [
              "2884"
            ]
          },
          "metadata": {
            "tags": []
          },
          "execution_count": 10
        }
      ]
    },
    {
      "cell_type": "code",
      "metadata": {
        "colab": {
          "base_uri": "https://localhost:8080/",
          "height": 35
        },
        "id": "U7iw6DY2jJu9",
        "outputId": "b8212fe5-651f-4be6-c45f-0880de0339a1"
      },
      "source": [
        "add = df.iloc[2]['소재지지번주소']\n",
        "add"
      ],
      "execution_count": null,
      "outputs": [
        {
          "output_type": "execute_result",
          "data": {
            "application/vnd.google.colaboratory.intrinsic+json": {
              "type": "string"
            },
            "text/plain": [
              "'경상북도 포항시 북구 신광면 토성리 486-5'"
            ]
          },
          "metadata": {
            "tags": []
          },
          "execution_count": 5
        }
      ]
    },
    {
      "cell_type": "code",
      "metadata": {
        "colab": {
          "base_uri": "https://localhost:8080/"
        },
        "id": "fuNZDA4gl-ce",
        "outputId": "f21162b9-91c7-48ae-bdb9-ee09173efaac"
      },
      "source": [
        "df['CODE'] == NaN"
      ],
      "execution_count": null,
      "outputs": [
        {
          "output_type": "execute_result",
          "data": {
            "text/plain": [
              "0       4711132000\n",
              "1       4711133000\n",
              "2       4711331000\n",
              "3       4711334000\n",
              "4       4711335000\n",
              "           ...    \n",
              "2879           NaN\n",
              "2880           NaN\n",
              "2881           NaN\n",
              "2882           NaN\n",
              "2883           NaN\n",
              "Name: CODE, Length: 2884, dtype: object"
            ]
          },
          "metadata": {
            "tags": []
          },
          "execution_count": 28
        }
      ]
    },
    {
      "cell_type": "code",
      "metadata": {
        "colab": {
          "base_uri": "https://localhost:8080/",
          "height": 35
        },
        "id": "DBcNBcYzncLy",
        "outputId": "42e837ba-6d3c-467c-c390-1c4e2fbbfd7c"
      },
      "source": [
        "  getAddress('경기도 성남시 중원구 성남동 4222번지등 54')"
      ],
      "execution_count": null,
      "outputs": [
        {
          "output_type": "execute_result",
          "data": {
            "application/vnd.google.colaboratory.intrinsic+json": {
              "type": "string"
            },
            "text/plain": [
              "'4113351000'"
            ]
          },
          "metadata": {
            "tags": []
          },
          "execution_count": 48
        }
      ]
    },
    {
      "cell_type": "code",
      "metadata": {
        "id": "Cc345aWP2JeQ",
        "colab": {
          "base_uri": "https://localhost:8080/",
          "height": 72
        },
        "outputId": "927fb5b2-b440-43c0-97ae-a3efc29da4f5"
      },
      "source": [
        "from google.colab import files\n",
        "df.to_csv('result.csv') \n",
        "files.download('result.csv')"
      ],
      "execution_count": null,
      "outputs": [
        {
          "output_type": "stream",
          "text": [
            "/usr/local/lib/python3.7/dist-packages/ipykernel_launcher.py:5: VisibleDeprecationWarning: Creating an ndarray from ragged nested sequences (which is a list-or-tuple of lists-or-tuples-or ndarrays with different lengths or shapes) is deprecated. If you meant to do this, you must specify 'dtype=object' when creating the ndarray\n",
            "  \"\"\"\n"
          ],
          "name": "stderr"
        },
        {
          "output_type": "display_data",
          "data": {
            "application/javascript": [
              "\n",
              "    async function download(id, filename, size) {\n",
              "      if (!google.colab.kernel.accessAllowed) {\n",
              "        return;\n",
              "      }\n",
              "      const div = document.createElement('div');\n",
              "      const label = document.createElement('label');\n",
              "      label.textContent = `Downloading \"${filename}\": `;\n",
              "      div.appendChild(label);\n",
              "      const progress = document.createElement('progress');\n",
              "      progress.max = size;\n",
              "      div.appendChild(progress);\n",
              "      document.body.appendChild(div);\n",
              "\n",
              "      const buffers = [];\n",
              "      let downloaded = 0;\n",
              "\n",
              "      const channel = await google.colab.kernel.comms.open(id);\n",
              "      // Send a message to notify the kernel that we're ready.\n",
              "      channel.send({})\n",
              "\n",
              "      for await (const message of channel.messages) {\n",
              "        // Send a message to notify the kernel that we're ready.\n",
              "        channel.send({})\n",
              "        if (message.buffers) {\n",
              "          for (const buffer of message.buffers) {\n",
              "            buffers.push(buffer);\n",
              "            downloaded += buffer.byteLength;\n",
              "            progress.value = downloaded;\n",
              "          }\n",
              "        }\n",
              "      }\n",
              "      const blob = new Blob(buffers, {type: 'application/binary'});\n",
              "      const a = document.createElement('a');\n",
              "      a.href = window.URL.createObjectURL(blob);\n",
              "      a.download = filename;\n",
              "      div.appendChild(a);\n",
              "      a.click();\n",
              "      div.remove();\n",
              "    }\n",
              "  "
            ],
            "text/plain": [
              "<IPython.core.display.Javascript object>"
            ]
          },
          "metadata": {
            "tags": []
          }
        },
        {
          "output_type": "display_data",
          "data": {
            "application/javascript": [
              "download(\"download_9b8f5016-5222-4f87-b512-711bf88c80f3\", \"result.csv\", 1225)"
            ],
            "text/plain": [
              "<IPython.core.display.Javascript object>"
            ]
          },
          "metadata": {
            "tags": []
          }
        }
      ]
    }
  ]
}