{
  "nbformat": 4,
  "nbformat_minor": 0,
  "metadata": {
    "colab": {
      "name": "법정동 코드 반환 카카오 API",
      "provenance": [],
      "mount_file_id": "1MxtviWX2G9e4Q3DWnUs70mZ03DPZv096",
      "authorship_tag": "ABX9TyMbIcN7N9W9cW++0vqSC3c2",
      "include_colab_link": true
    },
    "kernelspec": {
      "name": "python3",
      "display_name": "Python 3"
    },
    "language_info": {
      "name": "python"
    }
  },
  "cells": [
    {
      "cell_type": "markdown",
      "metadata": {
        "id": "view-in-github",
        "colab_type": "text"
      },
      "source": [
        "<a href=\"https://colab.research.google.com/github/fenzhantw/traditional_market/blob/main/%EB%B2%95%EC%A0%95%EB%8F%99_%EC%BD%94%EB%93%9C_%EB%B0%98%ED%99%98_%EC%B9%B4%EC%B9%B4%EC%98%A4_API.ipynb\" target=\"_parent\"><img src=\"https://colab.research.google.com/assets/colab-badge.svg\" alt=\"Open In Colab\"/></a>"
      ]
    },
    {
      "cell_type": "code",
      "metadata": {
        "id": "bY_xlkrFnoxI"
      },
      "source": [
        "import pandas as pd\n",
        "import requests \n",
        "import sys\n",
        "import json\n",
        "import datetime "
      ],
      "execution_count": 1,
      "outputs": []
    },
    {
      "cell_type": "code",
      "metadata": {
        "id": "6NCjC1dwnvxs"
      },
      "source": [
        "def json_request(url='', encoding='utf-8', success=None, error=lambda e: print('%s : %s' % (e, datetime.now()), file=sys.stderr)):\n",
        "    headers = {'Authorization': 'KakaoAK {}'.format(APP_KEY)}\n",
        "    resp = requests.get(url, headers=headers)\n",
        "    # print('%s : success for request [%s]' % (datetime.now(), url))\n",
        "    return resp.text\n",
        "\n",
        "\n",
        "def reverse_geocode(longitude, latitude):\n",
        "    # 파라미터 최적화하여 url 생성\n",
        "    url = '%s?x=%s&y=%s' %(URL, longitude, latitude)\n",
        "    # json request\n",
        "    try:\n",
        "        # print('try')\n",
        "        json_req = json_request(url=url)\n",
        "        json_data = json.loads(json_req)\n",
        "        json_doc = json_data.get('documents')[0]\n",
        "        json_name = json_doc.get('address_name')\n",
        "        json_code = json_doc.get('code')\n",
        "    except:\n",
        "        # print('nan')\n",
        "        json_name = 'NaN'\n",
        "        json_code = 'NaN'\n",
        "    return json_name, json_code\n",
        "\n",
        " \n",
        "def get_address(x,y):\n",
        "    address = []        \n",
        "    json_name, json_code = reverse_geocode(x, y) \n",
        "    address.append(json_name)\n",
        "    return address # 전처리 함수에서 주소 리스트 받아서 데이터프레임에 추가\n",
        "\n",
        "\n",
        "def get_code(x,y):\n",
        "    code = []        \n",
        "    json_name, json_code = reverse_geocode(x, y) \n",
        "    code.append(json_code)\n",
        "    return code # 전처리 함수에서 행정구역코드 리스트 받아서 데이터프레임에 추가"
      ],
      "execution_count": 2,
      "outputs": []
    },
    {
      "cell_type": "code",
      "metadata": {
        "colab": {
          "base_uri": "https://localhost:8080/",
          "height": 746
        },
        "id": "FUNCPZdAnwl-",
        "outputId": "f0189418-0b7e-44a7-fe4b-51c6c19573c4"
      },
      "source": [
        "APP_KEY = '5e5acc55c8584f36abffe26633c82550' \n",
        "URL = 'https://dapi.kakao.com/v2/local/geo/coord2regioncode.json'\n",
        "\n",
        "df_all = pd.read_csv('/content/전국전통시장표준데이터.csv', encoding='cp949') \n",
        "df = df_all[['시장명', '경도', '위도']] \n",
        "\n",
        "\n",
        "for i in range(len(df)): \n",
        "    x_crd = float(df.loc[i, ['경도']])\n",
        "    y_crd = float(df.loc[i, ['위도']])\n",
        "    address = get_address(x_crd, y_crd)\n",
        "    code = get_code(x_crd, y_crd)\n",
        "    df.loc[i, ['ADDRESS']] = address\n",
        "    df.loc[i, ['CODE']] = code\n",
        "    \n",
        "    if i%100 == 0:\n",
        "        print('{} 번째 경위도 좌표계에 대한 정보 불러오는 중...'.format(i))\n",
        "\n",
        "from google.colab import files\n",
        "df.to_csv('result.csv') \n",
        "files.download('result.csv')"
      ],
      "execution_count": 4,
      "outputs": [
        {
          "output_type": "stream",
          "text": [
            "/usr/local/lib/python3.7/dist-packages/pandas/core/indexing.py:659: SettingWithCopyWarning: \n",
            "A value is trying to be set on a copy of a slice from a DataFrame.\n",
            "Try using .loc[row_indexer,col_indexer] = value instead\n",
            "\n",
            "See the caveats in the documentation: https://pandas.pydata.org/pandas-docs/stable/user_guide/indexing.html#returning-a-view-versus-a-copy\n",
            "  self.obj[k] = np.nan\n",
            "/usr/local/lib/python3.7/dist-packages/pandas/core/indexing.py:1758: SettingWithCopyWarning: \n",
            "A value is trying to be set on a copy of a slice from a DataFrame.\n",
            "Try using .loc[row_indexer,col_indexer] = value instead\n",
            "\n",
            "See the caveats in the documentation: https://pandas.pydata.org/pandas-docs/stable/user_guide/indexing.html#returning-a-view-versus-a-copy\n",
            "  isetter(loc, v)\n"
          ],
          "name": "stderr"
        },
        {
          "output_type": "stream",
          "text": [
            "0 번째 경위도 좌표계에 대한 정보 불러오는 중...\n",
            "100 번째 경위도 좌표계에 대한 정보 불러오는 중...\n",
            "200 번째 경위도 좌표계에 대한 정보 불러오는 중...\n",
            "300 번째 경위도 좌표계에 대한 정보 불러오는 중...\n",
            "400 번째 경위도 좌표계에 대한 정보 불러오는 중...\n",
            "500 번째 경위도 좌표계에 대한 정보 불러오는 중...\n",
            "600 번째 경위도 좌표계에 대한 정보 불러오는 중...\n",
            "700 번째 경위도 좌표계에 대한 정보 불러오는 중...\n",
            "800 번째 경위도 좌표계에 대한 정보 불러오는 중...\n",
            "900 번째 경위도 좌표계에 대한 정보 불러오는 중...\n",
            "1000 번째 경위도 좌표계에 대한 정보 불러오는 중...\n",
            "1100 번째 경위도 좌표계에 대한 정보 불러오는 중...\n",
            "1200 번째 경위도 좌표계에 대한 정보 불러오는 중...\n",
            "1300 번째 경위도 좌표계에 대한 정보 불러오는 중...\n",
            "1400 번째 경위도 좌표계에 대한 정보 불러오는 중...\n",
            "1500 번째 경위도 좌표계에 대한 정보 불러오는 중...\n",
            "1600 번째 경위도 좌표계에 대한 정보 불러오는 중...\n",
            "1700 번째 경위도 좌표계에 대한 정보 불러오는 중...\n",
            "1800 번째 경위도 좌표계에 대한 정보 불러오는 중...\n",
            "1900 번째 경위도 좌표계에 대한 정보 불러오는 중...\n",
            "2000 번째 경위도 좌표계에 대한 정보 불러오는 중...\n",
            "2100 번째 경위도 좌표계에 대한 정보 불러오는 중...\n",
            "2200 번째 경위도 좌표계에 대한 정보 불러오는 중...\n",
            "2300 번째 경위도 좌표계에 대한 정보 불러오는 중...\n",
            "2400 번째 경위도 좌표계에 대한 정보 불러오는 중...\n",
            "2500 번째 경위도 좌표계에 대한 정보 불러오는 중...\n",
            "2600 번째 경위도 좌표계에 대한 정보 불러오는 중...\n",
            "2700 번째 경위도 좌표계에 대한 정보 불러오는 중...\n",
            "2800 번째 경위도 좌표계에 대한 정보 불러오는 중...\n"
          ],
          "name": "stdout"
        },
        {
          "output_type": "display_data",
          "data": {
            "application/javascript": [
              "\n",
              "    async function download(id, filename, size) {\n",
              "      if (!google.colab.kernel.accessAllowed) {\n",
              "        return;\n",
              "      }\n",
              "      const div = document.createElement('div');\n",
              "      const label = document.createElement('label');\n",
              "      label.textContent = `Downloading \"${filename}\": `;\n",
              "      div.appendChild(label);\n",
              "      const progress = document.createElement('progress');\n",
              "      progress.max = size;\n",
              "      div.appendChild(progress);\n",
              "      document.body.appendChild(div);\n",
              "\n",
              "      const buffers = [];\n",
              "      let downloaded = 0;\n",
              "\n",
              "      const channel = await google.colab.kernel.comms.open(id);\n",
              "      // Send a message to notify the kernel that we're ready.\n",
              "      channel.send({})\n",
              "\n",
              "      for await (const message of channel.messages) {\n",
              "        // Send a message to notify the kernel that we're ready.\n",
              "        channel.send({})\n",
              "        if (message.buffers) {\n",
              "          for (const buffer of message.buffers) {\n",
              "            buffers.push(buffer);\n",
              "            downloaded += buffer.byteLength;\n",
              "            progress.value = downloaded;\n",
              "          }\n",
              "        }\n",
              "      }\n",
              "      const blob = new Blob(buffers, {type: 'application/binary'});\n",
              "      const a = document.createElement('a');\n",
              "      a.href = window.URL.createObjectURL(blob);\n",
              "      a.download = filename;\n",
              "      div.appendChild(a);\n",
              "      a.click();\n",
              "      div.remove();\n",
              "    }\n",
              "  "
            ],
            "text/plain": [
              "<IPython.core.display.Javascript object>"
            ]
          },
          "metadata": {
            "tags": []
          }
        },
        {
          "output_type": "display_data",
          "data": {
            "application/javascript": [
              "download(\"download_9caaa41e-8b6e-4ac2-9883-c10c5f7027fc\", \"result.csv\", 273380)"
            ],
            "text/plain": [
              "<IPython.core.display.Javascript object>"
            ]
          },
          "metadata": {
            "tags": []
          }
        }
      ]
    }
  ]
}